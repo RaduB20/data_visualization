{
 "cells": [
  {
   "cell_type": "markdown",
   "id": "bb5d96b1",
   "metadata": {},
   "source": [
    "# **Social Media and News in the U.S.**\n",
    "\n",
    "Source: [Social Media and News Fact Sheet by Pew Research Center](https://www.pewresearch.org/journalism/fact-sheet/social-media-and-news-fact-sheet/)"
   ]
  },
  {
   "cell_type": "markdown",
   "id": "55f3f8fd",
   "metadata": {},
   "source": [
    "### **Imports**"
   ]
  },
  {
   "cell_type": "code",
   "execution_count": 85,
   "id": "922d2243",
   "metadata": {},
   "outputs": [],
   "source": [
    "import pandas as pd\n",
    "import numpy as np\n",
    "\n",
    "import plotly.graph_objects as go\n",
    "import plotly.express as px\n",
    "from pywaffle import Waffle\n",
    "import matplotlib.pyplot as plt\n",
    "import matplotlib.patches as mpatches \n",
    "from plotly.subplots import make_subplots\n",
    "import matplotlib.font_manager as fm"
   ]
  },
  {
   "cell_type": "markdown",
   "id": "1822ab9d",
   "metadata": {},
   "source": [
    "### **Read data**"
   ]
  },
  {
   "cell_type": "code",
   "execution_count": 86,
   "id": "f63d116d",
   "metadata": {},
   "outputs": [
    {
     "data": {
      "application/vnd.microsoft.datawrangler.viewer.v0+json": {
       "columns": [
        {
         "name": "index",
         "rawType": "int64",
         "type": "integer"
        },
        {
         "name": "Year",
         "rawType": "int64",
         "type": "integer"
        },
        {
         "name": "Facebook",
         "rawType": "int64",
         "type": "integer"
        },
        {
         "name": "YouTube",
         "rawType": "int64",
         "type": "integer"
        },
        {
         "name": "Instagram",
         "rawType": "int64",
         "type": "integer"
        },
        {
         "name": "TikTok",
         "rawType": "int64",
         "type": "integer"
        },
        {
         "name": "X/Twitter",
         "rawType": "int64",
         "type": "integer"
        },
        {
         "name": "Reddit",
         "rawType": "int64",
         "type": "integer"
        },
        {
         "name": "Nextdoor",
         "rawType": "float64",
         "type": "float"
        },
        {
         "name": "WhatsApp",
         "rawType": "int64",
         "type": "integer"
        },
        {
         "name": "Threads",
         "rawType": "float64",
         "type": "float"
        },
        {
         "name": "Truth Social",
         "rawType": "float64",
         "type": "float"
        },
        {
         "name": "Rumble",
         "rawType": "float64",
         "type": "float"
        },
        {
         "name": "Bluesky",
         "rawType": "float64",
         "type": "float"
        }
       ],
       "ref": "d38f2cfd-902e-48cf-b719-4452cc679300",
       "rows": [
        [
         "0",
         "2020",
         "54",
         "32",
         "28",
         "22",
         "59",
         "42",
         null,
         "13",
         null,
         null,
         null,
         null
        ],
        [
         "1",
         "2021",
         "47",
         "30",
         "27",
         "29",
         "55",
         "39",
         null,
         "14",
         null,
         null,
         null,
         null
        ],
        [
         "2",
         "2022",
         "44",
         "30",
         "29",
         "33",
         "53",
         "37",
         "23.0",
         "10",
         null,
         null,
         null,
         null
        ],
        [
         "3",
         "2023",
         "43",
         "32",
         "34",
         "43",
         "53",
         "38",
         "28.0",
         "12",
         null,
         null,
         null,
         null
        ],
        [
         "4",
         "2024",
         "48",
         "37",
         "40",
         "52",
         "59",
         "33",
         "27.0",
         "16",
         null,
         "57.0",
         "48.0",
         null
        ],
        [
         "5",
         "2025",
         "53",
         "41",
         "41",
         "55",
         "57",
         "35",
         "33.0",
         "15",
         "34.0",
         "55.0",
         "49.0",
         "38.0"
        ]
       ],
       "shape": {
        "columns": 13,
        "rows": 6
       }
      },
      "text/html": [
       "<div>\n",
       "<style scoped>\n",
       "    .dataframe tbody tr th:only-of-type {\n",
       "        vertical-align: middle;\n",
       "    }\n",
       "\n",
       "    .dataframe tbody tr th {\n",
       "        vertical-align: top;\n",
       "    }\n",
       "\n",
       "    .dataframe thead th {\n",
       "        text-align: right;\n",
       "    }\n",
       "</style>\n",
       "<table border=\"1\" class=\"dataframe\">\n",
       "  <thead>\n",
       "    <tr style=\"text-align: right;\">\n",
       "      <th></th>\n",
       "      <th>Year</th>\n",
       "      <th>Facebook</th>\n",
       "      <th>YouTube</th>\n",
       "      <th>Instagram</th>\n",
       "      <th>TikTok</th>\n",
       "      <th>X/Twitter</th>\n",
       "      <th>Reddit</th>\n",
       "      <th>Nextdoor</th>\n",
       "      <th>WhatsApp</th>\n",
       "      <th>Threads</th>\n",
       "      <th>Truth Social</th>\n",
       "      <th>Rumble</th>\n",
       "      <th>Bluesky</th>\n",
       "    </tr>\n",
       "  </thead>\n",
       "  <tbody>\n",
       "    <tr>\n",
       "      <th>0</th>\n",
       "      <td>2020</td>\n",
       "      <td>54</td>\n",
       "      <td>32</td>\n",
       "      <td>28</td>\n",
       "      <td>22</td>\n",
       "      <td>59</td>\n",
       "      <td>42</td>\n",
       "      <td>NaN</td>\n",
       "      <td>13</td>\n",
       "      <td>NaN</td>\n",
       "      <td>NaN</td>\n",
       "      <td>NaN</td>\n",
       "      <td>NaN</td>\n",
       "    </tr>\n",
       "    <tr>\n",
       "      <th>1</th>\n",
       "      <td>2021</td>\n",
       "      <td>47</td>\n",
       "      <td>30</td>\n",
       "      <td>27</td>\n",
       "      <td>29</td>\n",
       "      <td>55</td>\n",
       "      <td>39</td>\n",
       "      <td>NaN</td>\n",
       "      <td>14</td>\n",
       "      <td>NaN</td>\n",
       "      <td>NaN</td>\n",
       "      <td>NaN</td>\n",
       "      <td>NaN</td>\n",
       "    </tr>\n",
       "    <tr>\n",
       "      <th>2</th>\n",
       "      <td>2022</td>\n",
       "      <td>44</td>\n",
       "      <td>30</td>\n",
       "      <td>29</td>\n",
       "      <td>33</td>\n",
       "      <td>53</td>\n",
       "      <td>37</td>\n",
       "      <td>23.0</td>\n",
       "      <td>10</td>\n",
       "      <td>NaN</td>\n",
       "      <td>NaN</td>\n",
       "      <td>NaN</td>\n",
       "      <td>NaN</td>\n",
       "    </tr>\n",
       "    <tr>\n",
       "      <th>3</th>\n",
       "      <td>2023</td>\n",
       "      <td>43</td>\n",
       "      <td>32</td>\n",
       "      <td>34</td>\n",
       "      <td>43</td>\n",
       "      <td>53</td>\n",
       "      <td>38</td>\n",
       "      <td>28.0</td>\n",
       "      <td>12</td>\n",
       "      <td>NaN</td>\n",
       "      <td>NaN</td>\n",
       "      <td>NaN</td>\n",
       "      <td>NaN</td>\n",
       "    </tr>\n",
       "    <tr>\n",
       "      <th>4</th>\n",
       "      <td>2024</td>\n",
       "      <td>48</td>\n",
       "      <td>37</td>\n",
       "      <td>40</td>\n",
       "      <td>52</td>\n",
       "      <td>59</td>\n",
       "      <td>33</td>\n",
       "      <td>27.0</td>\n",
       "      <td>16</td>\n",
       "      <td>NaN</td>\n",
       "      <td>57.0</td>\n",
       "      <td>48.0</td>\n",
       "      <td>NaN</td>\n",
       "    </tr>\n",
       "    <tr>\n",
       "      <th>5</th>\n",
       "      <td>2025</td>\n",
       "      <td>53</td>\n",
       "      <td>41</td>\n",
       "      <td>41</td>\n",
       "      <td>55</td>\n",
       "      <td>57</td>\n",
       "      <td>35</td>\n",
       "      <td>33.0</td>\n",
       "      <td>15</td>\n",
       "      <td>34.0</td>\n",
       "      <td>55.0</td>\n",
       "      <td>49.0</td>\n",
       "      <td>38.0</td>\n",
       "    </tr>\n",
       "  </tbody>\n",
       "</table>\n",
       "</div>"
      ],
      "text/plain": [
       "   Year  Facebook  YouTube  Instagram  TikTok  X/Twitter  Reddit  Nextdoor  \\\n",
       "0  2020        54       32         28      22         59      42       NaN   \n",
       "1  2021        47       30         27      29         55      39       NaN   \n",
       "2  2022        44       30         29      33         53      37      23.0   \n",
       "3  2023        43       32         34      43         53      38      28.0   \n",
       "4  2024        48       37         40      52         59      33      27.0   \n",
       "5  2025        53       41         41      55         57      35      33.0   \n",
       "\n",
       "   WhatsApp  Threads  Truth Social  Rumble  Bluesky  \n",
       "0        13      NaN           NaN     NaN      NaN  \n",
       "1        14      NaN           NaN     NaN      NaN  \n",
       "2        10      NaN           NaN     NaN      NaN  \n",
       "3        12      NaN           NaN     NaN      NaN  \n",
       "4        16      NaN          57.0    48.0      NaN  \n",
       "5        15     34.0          55.0    49.0     38.0  "
      ]
     },
     "execution_count": 86,
     "metadata": {},
     "output_type": "execute_result"
    }
   ],
   "source": [
    "# Path dictionary\n",
    "data = {\n",
    "    'adults_per_app': './data/adults_per_app.csv',\n",
    "    'demographics': './data/demographics.csv',\n",
    "    'demographics_2': './data/demographics_2.csv',\n",
    "    'news_consumption': './data/news_consumption_on_social_media.csv',\n",
    "    'news_per_app': './data/news_per_app.csv'\n",
    "}\n",
    "\n",
    "adults_per_app = pd.read_csv(data['adults_per_app'])\n",
    "demographics = pd.read_csv(data['demographics'])\n",
    "news_consumption = pd.read_csv(data['news_consumption'])\n",
    "news_per_app = pd.read_csv(data['news_per_app'])\n",
    "news_per_app"
   ]
  },
  {
   "cell_type": "markdown",
   "id": "5a68cc6e",
   "metadata": {},
   "source": [
    "## **News consumption on social media** (Waffle)\n",
    " - % of U.S. adults who say they get news from social media\n",
    "- Dataset: `news_consumption_on_social_media.csv`"
   ]
  },
  {
   "cell_type": "code",
   "execution_count": 87,
   "id": "d6c7c29f",
   "metadata": {},
   "outputs": [
    {
     "data": {
      "image/png": "[encoded data removed]",
      "text/plain": [
       "<Figure size 2400x1800 with 6 Axes>"
      ]
     },
     "metadata": {},
     "output_type": "display_data"
    }
   ],
   "source": [
    "df = news_consumption.copy()\n",
    "df.set_index('Year', inplace=True)\n",
    "df = df.T\n",
    "\n",
    "\n",
    "number_of_bars = len(df.columns)\n",
    "colors = [\"#AF1B3F\", \"#473144\", \"#CCB69B\", \"#DF9B6D\"]\n",
    "\n",
    "fig, axs = plt.subplots(nrows=1,\n",
    "                        ncols=number_of_bars,\n",
    "                        figsize=(8,6),dpi = 300)\n",
    "\n",
    "y_ticks = [0, 20, 40, 60, 80, 100]\n",
    "for y_tick in y_ticks:\n",
    "    axs[0].text(\n",
    "        x=-0.25,\n",
    "        y=y_tick / 100,\n",
    "        s=f\"{y_tick}%\",\n",
    "        size=12,\n",
    "        va=\"center\",\n",
    "        ha=\"right\",\n",
    "        transform=axs[0].transAxes,\n",
    "    )\n",
    "    axs[0].axhline(\n",
    "        y=y_tick / 100,\n",
    "        xmin=-0.2,\n",
    "        xmax=-0.1,\n",
    "        clip_on=False,\n",
    "        color=\"black\",\n",
    "        linewidth=0.7,\n",
    "    )\n",
    "axs[0].axvline(x=-0.03, ymax=1.05, clip_on=False, color=\"black\", linewidth=0.7)\n",
    "\n",
    "# Iterate over each bar and create it\n",
    "for i,ax in enumerate(axs):\n",
    "    \n",
    "    col_name = df.columns[i]\n",
    "    values = df[col_name]\n",
    "    \n",
    "    Waffle.make_waffle(\n",
    "        ax=ax,  # pass axis to make_waffle \n",
    "        rows=20,\n",
    "        columns=5,\n",
    "        values=values,\n",
    "        title={\"label\": col_name, \"loc\": \"center\"},\n",
    "        colors=colors,\n",
    "        vertical=True,\n",
    "        #icons=['user-plus', 'user', 'user-minus', 'user-xmark'],\n",
    "        icons=['user', 'user', 'user', 'user'],\n",
    "        font_size=12,\n",
    "        icon_legend=True,\n",
    "        legend={'loc': 'upper left', 'bbox_to_anchor': (1, 1)},\n",
    "    )\n",
    "    ax.set_title(col_name, y=-0.07, fontsize=12, fontweight='bold')\n",
    "\n",
    "fig.suptitle('News consumption on social media', fontsize=20, fontweight='bold')\n",
    "\n",
    "# Add a centered subtitle under the main title\n",
    "fig.text(0.5, 0.9,\n",
    "            f'% of U.S. adults who said they got news from social media in ...',\n",
    "            ha='center', fontsize=11, color='black')\n",
    "\n",
    "# Add a legend\n",
    "legend_labels = df.index\n",
    "legend_elements = [mpatches.Patch(color=colors[i],\n",
    "                                  label=legend_labels[i]) for i in range(len(colors))]\n",
    "fig.legend(handles=legend_elements,\n",
    "           loc=\"center right\",\n",
    "           #title=\"Frequency\",\n",
    "           bbox_to_anchor=(1.04, 0.5))\n",
    "\n",
    "fig.text(0.05, -0.05, \n",
    "         \"Note: Respondents who did not answer are not shown. Respondents who do not use the internet did not receive this question; \" \\\n",
    "         \"they are included with those who said “Never,” along with those who do not say they get news from digital devices.\\n\" \\\n",
    "         \"Source: Survey of U.S adults conducted Aug. 18-24, 2025.PEW RESEARCH CENTER\",\n",
    "         ha='left', fontsize=9, color='darkgray', wrap=True)\n",
    "\n",
    "plt.subplots_adjust(right=0.85, bottom=0.1, top=0.85)\n",
    "\n",
    "plt.show()"
   ]
  },
  {
   "cell_type": "markdown",
   "id": "2a120951",
   "metadata": {},
   "source": [
    "Digital sources have become an important part of [Americans’ news diets](https://www.pewresearch.org/journalism/fact-sheet/news-platform-fact-sheet/) – with social media playing a crucial role, particularly for younger adults. \n",
    "\n",
    "Overall, about half of U.S. adults (53%) say they at least sometimes get news from social media, roughly stable over the last few years."
   ]
  },
  {
   "cell_type": "markdown",
   "id": "1fb5daf2",
   "metadata": {},
   "source": [
    "## **News consumption by social media site** (Grouped Bar Chart)\n",
    "- % of U.S. adults who say they regularly get news on each social media site\n",
    "- Dataset: `adults_per_app.csv`"
   ]
  },
  {
   "cell_type": "code",
   "execution_count": 88,
   "id": "b3c6da72",
   "metadata": {},
   "outputs": [
    {
     "data": {
      "application/vnd.plotly.v1+json": {
       "config": {
        "plotlyServerURL": "https://plot.ly"
       },
       "data": [
        {
         "alignmentgroup": "True",
         "hovertemplate": "Platform=Facebook<br>Year=%{x}<br>Percentage of Users (%)=%{y}<extra></extra>",
         "legendgroup": "Facebook",
         "marker": {
          "color": "#636efa",
          "pattern": {
           "shape": ""
          }
         },
         "name": "Facebook",
         "offsetgroup": "Facebook",
         "orientation": "v",
         "showlegend": true,
         "textposition": "auto",
         "type": "bar",
         "x": {
          "bdata": "5AflB+YH5wfoB+kH",
          "dtype": "i2"
         },
         "xaxis": "x",
         "y": {
          "bdata": "AAAAAAAAQkAAAAAAAAA/QAAAAAAAAD9AAAAAAAAAPkAAAAAAAIBAQAAAAAAAAENA",
          "dtype": "f8"
         },
         "yaxis": "y"
        },
        {
         "alignmentgroup": "True",
         "hovertemplate": "Platform=YouTube<br>Year=%{x}<br>Percentage of Users (%)=%{y}<extra></extra>",
         "legendgroup": "YouTube",
         "marker": {
          "color": "#EF553B",
          "pattern": {
           "shape": ""
          }
         },
         "name": "YouTube",
         "offsetgroup": "YouTube",
         "orientation": "v",
         "showlegend": true,
         "textposition": "auto",
         "type": "bar",
         "x": {
          "bdata": "5AflB+YH5wfoB+kH",
          "dtype": "i2"
         },
         "xaxis": "x",
         "y": {
          "bdata": "AAAAAAAAN0AAAAAAAAA2QAAAAAAAADlAAAAAAAAAOkAAAAAAAABAQAAAAAAAgEFA",
          "dtype": "f8"
         },
         "yaxis": "y"
        },
        {
         "alignmentgroup": "True",
         "hovertemplate": "Platform=Instagram<br>Year=%{x}<br>Percentage of Users (%)=%{y}<extra></extra>",
         "legendgroup": "Instagram",
         "marker": {
          "color": "#00cc96",
          "pattern": {
           "shape": ""
          }
         },
         "name": "Instagram",
         "offsetgroup": "Instagram",
         "orientation": "v",
         "showlegend": true,
         "textposition": "auto",
         "type": "bar",
         "x": {
          "bdata": "5AflB+YH5wfoB+kH",
          "dtype": "i2"
         },
         "xaxis": "x",
         "y": {
          "bdata": "AAAAAAAAJkAAAAAAAAAmQAAAAAAAACpAAAAAAAAAMEAAAAAAAAA0QAAAAAAAADRA",
          "dtype": "f8"
         },
         "yaxis": "y"
        },
        {
         "alignmentgroup": "True",
         "hovertemplate": "Platform=TikTok<br>Year=%{x}<br>Percentage of Users (%)=%{y}<extra></extra>",
         "legendgroup": "TikTok",
         "marker": {
          "color": "#ab63fa",
          "pattern": {
           "shape": ""
          }
         },
         "name": "TikTok",
         "offsetgroup": "TikTok",
         "orientation": "v",
         "showlegend": true,
         "textposition": "auto",
         "type": "bar",
         "x": {
          "bdata": "5AflB+YH5wfoB+kH",
          "dtype": "i2"
         },
         "xaxis": "x",
         "y": {
          "bdata": "AAAAAAAACEAAAAAAAAAYQAAAAAAAACRAAAAAAAAALEAAAAAAAAAxQAAAAAAAADRA",
          "dtype": "f8"
         },
         "yaxis": "y"
        },
        {
         "alignmentgroup": "True",
         "hovertemplate": "Platform=X/Twitter<br>Year=%{x}<br>Percentage of Users (%)=%{y}<extra></extra>",
         "legendgroup": "X/Twitter",
         "marker": {
          "color": "#FFA15A",
          "pattern": {
           "shape": ""
          }
         },
         "name": "X/Twitter",
         "offsetgroup": "X/Twitter",
         "orientation": "v",
         "showlegend": true,
         "textposition": "auto",
         "type": "bar",
         "x": {
          "bdata": "5AflB+YH5wfoB+kH",
          "dtype": "i2"
         },
         "xaxis": "x",
         "y": {
          "bdata": "AAAAAAAALkAAAAAAAAAqQAAAAAAAACxAAAAAAAAAKEAAAAAAAAAoQAAAAAAAAChA",
          "dtype": "f8"
         },
         "yaxis": "y"
        },
        {
         "alignmentgroup": "True",
         "hovertemplate": "Platform=Reddit<br>Year=%{x}<br>Percentage of Users (%)=%{y}<extra></extra>",
         "legendgroup": "Reddit",
         "marker": {
          "color": "#19d3f3",
          "pattern": {
           "shape": ""
          }
         },
         "name": "Reddit",
         "offsetgroup": "Reddit",
         "orientation": "v",
         "showlegend": true,
         "textposition": "auto",
         "type": "bar",
         "x": {
          "bdata": "5AflB+YH5wfoB+kH",
          "dtype": "i2"
         },
         "xaxis": "x",
         "y": {
          "bdata": "AAAAAAAAGEAAAAAAAAAcQAAAAAAAACBAAAAAAAAAIEAAAAAAAAAgQAAAAAAAACJA",
          "dtype": "f8"
         },
         "yaxis": "y"
        },
        {
         "alignmentgroup": "True",
         "hovertemplate": "Platform=Nextdoor<br>Year=%{x}<br>Percentage of Users (%)=%{y}<extra></extra>",
         "legendgroup": "Nextdoor",
         "marker": {
          "color": "#FF6692",
          "pattern": {
           "shape": ""
          }
         },
         "name": "Nextdoor",
         "offsetgroup": "Nextdoor",
         "orientation": "v",
         "showlegend": true,
         "textposition": "auto",
         "type": "bar",
         "x": {
          "bdata": "5AflB+YH5wfoB+kH",
          "dtype": "i2"
         },
         "xaxis": "x",
         "y": {
          "bdata": "AAAAAAAA+H8AAAAAAAD4fwAAAAAAABBAAAAAAAAAFEAAAAAAAAAUQAAAAAAAABhA",
          "dtype": "f8"
         },
         "yaxis": "y"
        },
        {
         "alignmentgroup": "True",
         "hovertemplate": "Platform=WhatsApp<br>Year=%{x}<br>Percentage of Users (%)=%{y}<extra></extra>",
         "legendgroup": "WhatsApp",
         "marker": {
          "color": "#B6E880",
          "pattern": {
           "shape": ""
          }
         },
         "name": "WhatsApp",
         "offsetgroup": "WhatsApp",
         "orientation": "v",
         "showlegend": true,
         "textposition": "auto",
         "type": "bar",
         "x": {
          "bdata": "5AflB+YH5wfoB+kH",
          "dtype": "i2"
         },
         "xaxis": "x",
         "y": {
          "bdata": "AAAAAAAACEAAAAAAAAAIQAAAAAAAAAhAAAAAAAAACEAAAAAAAAAUQAAAAAAAABRA",
          "dtype": "f8"
         },
         "yaxis": "y"
        },
        {
         "alignmentgroup": "True",
         "hovertemplate": "Platform=Threads<br>Year=%{x}<br>Percentage of Users (%)=%{y}<extra></extra>",
         "legendgroup": "Threads",
         "marker": {
          "color": "#FF97FF",
          "pattern": {
           "shape": ""
          }
         },
         "name": "Threads",
         "offsetgroup": "Threads",
         "orientation": "v",
         "showlegend": true,
         "textposition": "auto",
         "type": "bar",
         "x": {
          "bdata": "5AflB+YH5wfoB+kH",
          "dtype": "i2"
         },
         "xaxis": "x",
         "y": {
          "bdata": "AAAAAAAA+H8AAAAAAAD4fwAAAAAAAPh/AAAAAAAA+H8AAAAAAAD4fwAAAAAAAAhA",
          "dtype": "f8"
         },
         "yaxis": "y"
        },
        {
         "alignmentgroup": "True",
         "hovertemplate": "Platform=Truth Social<br>Year=%{x}<br>Percentage of Users (%)=%{y}<extra></extra>",
         "legendgroup": "Truth Social",
         "marker": {
          "color": "#FECB52",
          "pattern": {
           "shape": ""
          }
         },
         "name": "Truth Social",
         "offsetgroup": "Truth Social",
         "orientation": "v",
         "showlegend": true,
         "textposition": "auto",
         "type": "bar",
         "x": {
          "bdata": "5AflB+YH5wfoB+kH",
          "dtype": "i2"
         },
         "xaxis": "x",
         "y": {
          "bdata": "AAAAAAAA+H8AAAAAAAD4fwAAAAAAAPh/AAAAAAAA+H8AAAAAAAAIQAAAAAAAAABA",
          "dtype": "f8"
         },
         "yaxis": "y"
        },
        {
         "alignmentgroup": "True",
         "hovertemplate": "Platform=Rumble<br>Year=%{x}<br>Percentage of Users (%)=%{y}<extra></extra>",
         "legendgroup": "Rumble",
         "marker": {
          "color": "#636efa",
          "pattern": {
           "shape": ""
          }
         },
         "name": "Rumble",
         "offsetgroup": "Rumble",
         "orientation": "v",
         "showlegend": true,
         "textposition": "auto",
         "type": "bar",
         "x": {
          "bdata": "5AflB+YH5wfoB+kH",
          "dtype": "i2"
         },
         "xaxis": "x",
         "y": {
          "bdata": "AAAAAAAA+H8AAAAAAAD4fwAAAAAAAPh/AAAAAAAA+H8AAAAAAAAAQAAAAAAAAABA",
          "dtype": "f8"
         },
         "yaxis": "y"
        },
        {
         "alignmentgroup": "True",
         "hovertemplate": "Platform=Bluesky<br>Year=%{x}<br>Percentage of Users (%)=%{y}<extra></extra>",
         "legendgroup": "Bluesky",
         "marker": {
          "color": "#EF553B",
          "pattern": {
           "shape": ""
          }
         },
         "name": "Bluesky",
         "offsetgroup": "Bluesky",
         "orientation": "v",
         "showlegend": true,
         "textposition": "auto",
         "type": "bar",
         "x": {
          "bdata": "5AflB+YH5wfoB+kH",
          "dtype": "i2"
         },
         "xaxis": "x",
         "y": {
          "bdata": "AAAAAAAA+H8AAAAAAAD4fwAAAAAAAPh/AAAAAAAA+H8AAAAAAAD4fwAAAAAAAABA",
          "dtype": "f8"
         },
         "yaxis": "y"
        }
       ],
       "layout": {
        "annotations": [
         {
          "font": {
           "color": "grey",
           "size": 14
          },
          "showarrow": false,
          "text": "% of U.S. adults who say they regularly get news on each social media site",
          "x": 0.005,
          "xref": "paper",
          "y": 1.08,
          "yanchor": "top",
          "yref": "paper"
         },
         {
          "font": {
           "color": "grey",
           "size": 12
          },
          "showarrow": false,
          "text": "Note: Respondents who did not answer are not shown. Respondents who do not use the internet did not receive this question; they are included with those who said “Never,” along with those who do not say they get news from digital devices.<br>Source: Survey of U.S. adults conducted Aug. 18-24, 2025. PEW RESEARCH CENTER",
          "x": 0,
          "xanchor": "left",
          "xref": "paper",
          "y": -0.25,
          "yref": "paper"
         }
        ],
        "barmode": "group",
        "legend": {
         "title": {
          "text": "Platform"
         },
         "tracegroupgap": 0
        },
        "margin": {
         "t": 60
        },
        "template": {
         "data": {
          "bar": [
           {
            "error_x": {
             "color": "#2a3f5f"
            },
            "error_y": {
             "color": "#2a3f5f"
            },
            "marker": {
             "line": {
              "color": "#E5ECF6",
              "width": 0.5
             },
             "pattern": {
              "fillmode": "overlay",
              "size": 10,
              "solidity": 0.2
             }
            },
            "type": "bar"
           }
          ],
          "barpolar": [
           {
            "marker": {
             "line": {
              "color": "#E5ECF6",
              "width": 0.5
             },
             "pattern": {
              "fillmode": "overlay",
              "size": 10,
              "solidity": 0.2
             }
            },
            "type": "barpolar"
           }
          ],
          "carpet": [
           {
            "aaxis": {
             "endlinecolor": "#2a3f5f",
             "gridcolor": "white",
             "linecolor": "white",
             "minorgridcolor": "white",
             "startlinecolor": "#2a3f5f"
            },
            "baxis": {
             "endlinecolor": "#2a3f5f",
             "gridcolor": "white",
             "linecolor": "white",
             "minorgridcolor": "white",
             "startlinecolor": "#2a3f5f"
            },
            "type": "carpet"
           }
          ],
          "choropleth": [
           {
            "colorbar": {
             "outlinewidth": 0,
             "ticks": ""
            },
            "type": "choropleth"
           }
          ],
          "contour": [
           {
            "colorbar": {
             "outlinewidth": 0,
             "ticks": ""
            },
            "colorscale": [
             [
              0,
              "#0d0887"
             ],
             [
              0.1111111111111111,
              "#46039f"
             ],
             [
              0.2222222222222222,
              "#7201a8"
             ],
             [
              0.3333333333333333,
              "#9c179e"
             ],
             [
              0.4444444444444444,
              "#bd3786"
             ],
             [
              0.5555555555555556,
              "#d8576b"
             ],
             [
              0.6666666666666666,
              "#ed7953"
             ],
             [
              0.7777777777777778,
              "#fb9f3a"
             ],
             [
              0.8888888888888888,
              "#fdca26"
             ],
             [
              1,
              "#f0f921"
             ]
            ],
            "type": "contour"
           }
          ],
          "contourcarpet": [
           {
            "colorbar": {
             "outlinewidth": 0,
             "ticks": ""
            },
            "type": "contourcarpet"
           }
          ],
          "heatmap": [
           {
            "colorbar": {
             "outlinewidth": 0,
             "ticks": ""
            },
            "colorscale": [
             [
              0,
              "#0d0887"
             ],
             [
              0.1111111111111111,
              "#46039f"
             ],
             [
              0.2222222222222222,
              "#7201a8"
             ],
             [
              0.3333333333333333,
              "#9c179e"
             ],
             [
              0.4444444444444444,
              "#bd3786"
             ],
             [
              0.5555555555555556,
              "#d8576b"
             ],
             [
              0.6666666666666666,
              "#ed7953"
             ],
             [
              0.7777777777777778,
              "#fb9f3a"
             ],
             [
              0.8888888888888888,
              "#fdca26"
             ],
             [
              1,
              "#f0f921"
             ]
            ],
            "type": "heatmap"
           }
          ],
          "histogram": [
           {
            "marker": {
             "pattern": {
              "fillmode": "overlay",
              "size": 10,
              "solidity": 0.2
             }
            },
            "type": "histogram"
           }
          ],
          "histogram2d": [
           {
            "colorbar": {
             "outlinewidth": 0,
             "ticks": ""
            },
            "colorscale": [
             [
              0,
              "#0d0887"
             ],
             [
              0.1111111111111111,
              "#46039f"
             ],
             [
              0.2222222222222222,
              "#7201a8"
             ],
             [
              0.3333333333333333,
              "#9c179e"
             ],
             [
              0.4444444444444444,
              "#bd3786"
             ],
             [
              0.5555555555555556,
              "#d8576b"
             ],
             [
              0.6666666666666666,
              "#ed7953"
             ],
             [
              0.7777777777777778,
              "#fb9f3a"
             ],
             [
              0.8888888888888888,
              "#fdca26"
             ],
             [
              1,
              "#f0f921"
             ]
            ],
            "type": "histogram2d"
           }
          ],
          "histogram2dcontour": [
           {
            "colorbar": {
             "outlinewidth": 0,
             "ticks": ""
            },
            "colorscale": [
             [
              0,
              "#0d0887"
             ],
             [
              0.1111111111111111,
              "#46039f"
             ],
             [
              0.2222222222222222,
              "#7201a8"
             ],
             [
              0.3333333333333333,
              "#9c179e"
             ],
             [
              0.4444444444444444,
              "#bd3786"
             ],
             [
              0.5555555555555556,
              "#d8576b"
             ],
             [
              0.6666666666666666,
              "#ed7953"
             ],
             [
              0.7777777777777778,
              "#fb9f3a"
             ],
             [
              0.8888888888888888,
              "#fdca26"
             ],
             [
              1,
              "#f0f921"
             ]
            ],
            "type": "histogram2dcontour"
           }
          ],
          "mesh3d": [
           {
            "colorbar": {
             "outlinewidth": 0,
             "ticks": ""
            },
            "type": "mesh3d"
           }
          ],
          "parcoords": [
           {
            "line": {
             "colorbar": {
              "outlinewidth": 0,
              "ticks": ""
             }
            },
            "type": "parcoords"
           }
          ],
          "pie": [
           {
            "automargin": true,
            "type": "pie"
           }
          ],
          "scatter": [
           {
            "fillpattern": {
             "fillmode": "overlay",
             "size": 10,
             "solidity": 0.2
            },
            "type": "scatter"
           }
          ],
          "scatter3d": [
           {
            "line": {
             "colorbar": {
              "outlinewidth": 0,
              "ticks": ""
             }
            },
            "marker": {
             "colorbar": {
              "outlinewidth": 0,
              "ticks": ""
             }
            },
            "type": "scatter3d"
           }
          ],
          "scattercarpet": [
           {
            "marker": {
             "colorbar": {
              "outlinewidth": 0,
              "ticks": ""
             }
            },
            "type": "scattercarpet"
           }
          ],
          "scattergeo": [
           {
            "marker": {
             "colorbar": {
              "outlinewidth": 0,
              "ticks": ""
             }
            },
            "type": "scattergeo"
           }
          ],
          "scattergl": [
           {
            "marker": {
             "colorbar": {
              "outlinewidth": 0,
              "ticks": ""
             }
            },
            "type": "scattergl"
           }
          ],
          "scattermap": [
           {
            "marker": {
             "colorbar": {
              "outlinewidth": 0,
              "ticks": ""
             }
            },
            "type": "scattermap"
           }
          ],
          "scattermapbox": [
           {
            "marker": {
             "colorbar": {
              "outlinewidth": 0,
              "ticks": ""
             }
            },
            "type": "scattermapbox"
           }
          ],
          "scatterpolar": [
           {
            "marker": {
             "colorbar": {
              "outlinewidth": 0,
              "ticks": ""
             }
            },
            "type": "scatterpolar"
           }
          ],
          "scatterpolargl": [
           {
            "marker": {
             "colorbar": {
              "outlinewidth": 0,
              "ticks": ""
             }
            },
            "type": "scatterpolargl"
           }
          ],
          "scatterternary": [
           {
            "marker": {
             "colorbar": {
              "outlinewidth": 0,
              "ticks": ""
             }
            },
            "type": "scatterternary"
           }
          ],
          "surface": [
           {
            "colorbar": {
             "outlinewidth": 0,
             "ticks": ""
            },
            "colorscale": [
             [
              0,
              "#0d0887"
             ],
             [
              0.1111111111111111,
              "#46039f"
             ],
             [
              0.2222222222222222,
              "#7201a8"
             ],
             [
              0.3333333333333333,
              "#9c179e"
             ],
             [
              0.4444444444444444,
              "#bd3786"
             ],
             [
              0.5555555555555556,
              "#d8576b"
             ],
             [
              0.6666666666666666,
              "#ed7953"
             ],
             [
              0.7777777777777778,
              "#fb9f3a"
             ],
             [
              0.8888888888888888,
              "#fdca26"
             ],
             [
              1,
              "#f0f921"
             ]
            ],
            "type": "surface"
           }
          ],
          "table": [
           {
            "cells": {
             "fill": {
              "color": "#EBF0F8"
             },
             "line": {
              "color": "white"
             }
            },
            "header": {
             "fill": {
              "color": "#C8D4E3"
             },
             "line": {
              "color": "white"
             }
            },
            "type": "table"
           }
          ]
         },
         "layout": {
          "annotationdefaults": {
           "arrowcolor": "#2a3f5f",
           "arrowhead": 0,
           "arrowwidth": 1
          },
          "autotypenumbers": "strict",
          "coloraxis": {
           "colorbar": {
            "outlinewidth": 0,
            "ticks": ""
           }
          },
          "colorscale": {
           "diverging": [
            [
             0,
             "#8e0152"
            ],
            [
             0.1,
             "#c51b7d"
            ],
            [
             0.2,
             "#de77ae"
            ],
            [
             0.3,
             "#f1b6da"
            ],
            [
             0.4,
             "#fde0ef"
            ],
            [
             0.5,
             "#f7f7f7"
            ],
            [
             0.6,
             "#e6f5d0"
            ],
            [
             0.7,
             "#b8e186"
            ],
            [
             0.8,
             "#7fbc41"
            ],
            [
             0.9,
             "#4d9221"
            ],
            [
             1,
             "#276419"
            ]
           ],
           "sequential": [
            [
             0,
             "#0d0887"
            ],
            [
             0.1111111111111111,
             "#46039f"
            ],
            [
             0.2222222222222222,
             "#7201a8"
            ],
            [
             0.3333333333333333,
             "#9c179e"
            ],
            [
             0.4444444444444444,
             "#bd3786"
            ],
            [
             0.5555555555555556,
             "#d8576b"
            ],
            [
             0.6666666666666666,
             "#ed7953"
            ],
            [
             0.7777777777777778,
             "#fb9f3a"
            ],
            [
             0.8888888888888888,
             "#fdca26"
            ],
            [
             1,
             "#f0f921"
            ]
           ],
           "sequentialminus": [
            [
             0,
             "#0d0887"
            ],
            [
             0.1111111111111111,
             "#46039f"
            ],
            [
             0.2222222222222222,
             "#7201a8"
            ],
            [
             0.3333333333333333,
             "#9c179e"
            ],
            [
             0.4444444444444444,
             "#bd3786"
            ],
            [
             0.5555555555555556,
             "#d8576b"
            ],
            [
             0.6666666666666666,
             "#ed7953"
            ],
            [
             0.7777777777777778,
             "#fb9f3a"
            ],
            [
             0.8888888888888888,
             "#fdca26"
            ],
            [
             1,
             "#f0f921"
            ]
           ]
          },
          "colorway": [
           "#636efa",
           "#EF553B",
           "#00cc96",
           "#ab63fa",
           "#FFA15A",
           "#19d3f3",
           "#FF6692",
           "#B6E880",
           "#FF97FF",
           "#FECB52"
          ],
          "font": {
           "color": "#2a3f5f"
          },
          "geo": {
           "bgcolor": "white",
           "lakecolor": "white",
           "landcolor": "#E5ECF6",
           "showlakes": true,
           "showland": true,
           "subunitcolor": "white"
          },
          "hoverlabel": {
           "align": "left"
          },
          "hovermode": "closest",
          "mapbox": {
           "style": "light"
          },
          "paper_bgcolor": "white",
          "plot_bgcolor": "#E5ECF6",
          "polar": {
           "angularaxis": {
            "gridcolor": "white",
            "linecolor": "white",
            "ticks": ""
           },
           "bgcolor": "#E5ECF6",
           "radialaxis": {
            "gridcolor": "white",
            "linecolor": "white",
            "ticks": ""
           }
          },
          "scene": {
           "xaxis": {
            "backgroundcolor": "#E5ECF6",
            "gridcolor": "white",
            "gridwidth": 2,
            "linecolor": "white",
            "showbackground": true,
            "ticks": "",
            "zerolinecolor": "white"
           },
           "yaxis": {
            "backgroundcolor": "#E5ECF6",
            "gridcolor": "white",
            "gridwidth": 2,
            "linecolor": "white",
            "showbackground": true,
            "ticks": "",
            "zerolinecolor": "white"
           },
           "zaxis": {
            "backgroundcolor": "#E5ECF6",
            "gridcolor": "white",
            "gridwidth": 2,
            "linecolor": "white",
            "showbackground": true,
            "ticks": "",
            "zerolinecolor": "white"
           }
          },
          "shapedefaults": {
           "line": {
            "color": "#2a3f5f"
           }
          },
          "ternary": {
           "aaxis": {
            "gridcolor": "white",
            "linecolor": "white",
            "ticks": ""
           },
           "baxis": {
            "gridcolor": "white",
            "linecolor": "white",
            "ticks": ""
           },
           "bgcolor": "#E5ECF6",
           "caxis": {
            "gridcolor": "white",
            "linecolor": "white",
            "ticks": ""
           }
          },
          "title": {
           "x": 0.05
          },
          "xaxis": {
           "automargin": true,
           "gridcolor": "white",
           "linecolor": "white",
           "ticks": "",
           "title": {
            "standoff": 15
           },
           "zerolinecolor": "white",
           "zerolinewidth": 2
          },
          "yaxis": {
           "automargin": true,
           "gridcolor": "white",
           "linecolor": "white",
           "ticks": "",
           "title": {
            "standoff": 15
           },
           "zerolinecolor": "white",
           "zerolinewidth": 2
          }
         }
        },
        "title": {
         "font": {
          "color": "black",
          "size": 20
         },
         "text": "<b>News Consumption by Social Media Site</b>",
         "x": 0.05
        },
        "xaxis": {
         "anchor": "y",
         "domain": [
          0,
          1
         ],
         "title": {
          "text": "Year"
         }
        },
        "yaxis": {
         "anchor": "x",
         "domain": [
          0,
          1
         ],
         "title": {
          "text": "Percentage of Users (%)"
         }
        }
       }
      }
     },
     "metadata": {},
     "output_type": "display_data"
    }
   ],
   "source": [
    "df = df = adults_per_app.copy()\n",
    "df.set_index('Year', inplace=True)\n",
    "df\n",
    "\n",
    "df_long = df.reset_index().melt(\n",
    "    id_vars='Year',                 # Column to keep as the identifier\n",
    "    var_name='Platform',            # Name for the new column of platform names\n",
    "    value_name='Percentage'         # Name for the new column of percentage values\n",
    ")\n",
    "# Clean up the '#' from platform names for a cleaner legend\n",
    "df_long['Platform'] = df_long['Platform'].str.replace('# ', '')\n",
    "\n",
    "fig = px.bar(\n",
    "    df_long,\n",
    "    x='Year',\n",
    "    y='Percentage',\n",
    "    color='Platform',              # Group and color bars by the 'Platform' column\n",
    "    barmode='group',               # This is the key argument for grouping\n",
    "    labels={'# Year': 'Year', 'Percentage': 'Percentage of Users (%)'}\n",
    ")\n",
    "\n",
    "fig.update_layout(\n",
    "    title=dict(\n",
    "        text=\"<b>News Consumption by Social Media Site</b>\", # Use HTML <b> tag for bold\n",
    "        font=dict(\n",
    "            #family=\"Helvetica\", \n",
    "            size=20,        \n",
    "            color=\"black\"\n",
    "        ),\n",
    "        x=0.05 \n",
    "    ),\n",
    "    xaxis_title=\"Year\",\n",
    "    yaxis_title=\"Percentage of Users (%)\"\n",
    ")\n",
    "\n",
    "fig.add_annotation(\n",
    "    text=f\"% of U.S. adults who say they regularly get news on each social media site\",\n",
    "    xref=\"paper\", yref=\"paper\", # Use 'paper' coordinates for positioning relative to the figure\n",
    "    x=0.005, y=1.08,             \n",
    "    yanchor='top',\n",
    "    showarrow=False,           \n",
    "    font=dict(\n",
    "        #family='Helvetica',\n",
    "        size=14,\n",
    "        color=\"grey\"\n",
    "    )\n",
    ")\n",
    "\n",
    "\n",
    "fig.add_annotation(\n",
    "    # Use HTML <br> for line breaks\n",
    "    text=\"Note: Respondents who did not answer are not shown. Respondents who do not use the internet did not receive this question; \" \\\n",
    "    \"they are included with those who said “Never,” along with those who do not say they get news from digital devices.\" \\\n",
    "    \"<br>Source: Survey of U.S. adults conducted Aug. 18-24, 2025. PEW RESEARCH CENTER\",\n",
    "    xref=\"paper\", yref=\"paper\", # Use 'paper' coordinates\n",
    "    x=0, y=-0.25,               \n",
    "    xanchor='left',             \n",
    "    showarrow=False,\n",
    "    font=dict(\n",
    "        size=12,\n",
    "        color=\"grey\"\n",
    "    )\n",
    ")\n",
    "\n",
    "fig.show()"
   ]
  },
  {
   "cell_type": "markdown",
   "id": "74b62db3",
   "metadata": {},
   "source": [
    "Facebook and YouTube outpace all other social media sites as places where Americans regularly get news: 38% of U.S. adults say they regularly get news on Facebook, and 35% say the same about YouTube.\n",
    "\n",
    "Smaller shares of Americans regularly get news on Instagram (20%), TikTok (20%) or X, formerly known as Twitter (12%)."
   ]
  },
  {
   "cell_type": "markdown",
   "id": "9a30d893",
   "metadata": {},
   "source": [
    "## **Social media sites by portion of users who regularly get news there: Trend from 2020 to 2025** (Candlesticks)\n",
    "-  % of each social media site’s users who say they regularly get news there\n",
    "- Dataset: `news_per_app.csv`"
   ]
  },
  {
   "cell_type": "code",
   "execution_count": 89,
   "id": "c91b79d8",
   "metadata": {},
   "outputs": [
    {
     "data": {
      "application/vnd.plotly.v1+json": {
       "config": {
        "plotlyServerURL": "https://plot.ly"
       },
       "data": [
        {
         "close": {
          "bdata": "NSkpNzkj",
          "dtype": "i1"
         },
         "high": {
          "bdata": "NikpNzsq",
          "dtype": "i1"
         },
         "low": {
          "bdata": "Kx4bFjUh",
          "dtype": "i1"
         },
         "open": {
          "bdata": "NiAcFjsq",
          "dtype": "i1"
         },
         "type": "candlestick",
         "x": [
          "Facebook",
          "YouTube",
          "Instagram",
          "TikTok",
          "X/Twitter",
          "Reddit"
         ]
        }
       ],
       "layout": {
        "annotations": [
         {
          "font": {
           "color": "grey",
           "size": 14
          },
          "showarrow": false,
          "text": "% of each social media site’s users who say they regularly get news there",
          "x": 0.5,
          "xref": "paper",
          "y": 1.15,
          "yanchor": "top",
          "yref": "paper"
         },
         {
          "font": {
           "color": "grey",
           "size": 12
          },
          "showarrow": false,
          "text": "Note: Only respondents who indicated that they use each site were asked if they regularly get news on it. Social media sites are shown left to right in descending order by the share of U.S. adults who regularly get news there.<br>Source: Survey of U.S. adults conducted Aug. 18-24, 2025. PEW RESEARCH CENTER",
          "x": 0.1,
          "xanchor": "left",
          "xref": "paper",
          "y": -0.3,
          "yref": "paper"
         }
        ],
        "template": {
         "data": {
          "bar": [
           {
            "error_x": {
             "color": "#2a3f5f"
            },
            "error_y": {
             "color": "#2a3f5f"
            },
            "marker": {
             "line": {
              "color": "white",
              "width": 0.5
             },
             "pattern": {
              "fillmode": "overlay",
              "size": 10,
              "solidity": 0.2
             }
            },
            "type": "bar"
           }
          ],
          "barpolar": [
           {
            "marker": {
             "line": {
              "color": "white",
              "width": 0.5
             },
             "pattern": {
              "fillmode": "overlay",
              "size": 10,
              "solidity": 0.2
             }
            },
            "type": "barpolar"
           }
          ],
          "carpet": [
           {
            "aaxis": {
             "endlinecolor": "#2a3f5f",
             "gridcolor": "#C8D4E3",
             "linecolor": "#C8D4E3",
             "minorgridcolor": "#C8D4E3",
             "startlinecolor": "#2a3f5f"
            },
            "baxis": {
             "endlinecolor": "#2a3f5f",
             "gridcolor": "#C8D4E3",
             "linecolor": "#C8D4E3",
             "minorgridcolor": "#C8D4E3",
             "startlinecolor": "#2a3f5f"
            },
            "type": "carpet"
           }
          ],
          "choropleth": [
           {
            "colorbar": {
             "outlinewidth": 0,
             "ticks": ""
            },
            "type": "choropleth"
           }
          ],
          "contour": [
           {
            "colorbar": {
             "outlinewidth": 0,
             "ticks": ""
            },
            "colorscale": [
             [
              0,
              "#0d0887"
             ],
             [
              0.1111111111111111,
              "#46039f"
             ],
             [
              0.2222222222222222,
              "#7201a8"
             ],
             [
              0.3333333333333333,
              "#9c179e"
             ],
             [
              0.4444444444444444,
              "#bd3786"
             ],
             [
              0.5555555555555556,
              "#d8576b"
             ],
             [
              0.6666666666666666,
              "#ed7953"
             ],
             [
              0.7777777777777778,
              "#fb9f3a"
             ],
             [
              0.8888888888888888,
              "#fdca26"
             ],
             [
              1,
              "#f0f921"
             ]
            ],
            "type": "contour"
           }
          ],
          "contourcarpet": [
           {
            "colorbar": {
             "outlinewidth": 0,
             "ticks": ""
            },
            "type": "contourcarpet"
           }
          ],
          "heatmap": [
           {
            "colorbar": {
             "outlinewidth": 0,
             "ticks": ""
            },
            "colorscale": [
             [
              0,
              "#0d0887"
             ],
             [
              0.1111111111111111,
              "#46039f"
             ],
             [
              0.2222222222222222,
              "#7201a8"
             ],
             [
              0.3333333333333333,
              "#9c179e"
             ],
             [
              0.4444444444444444,
              "#bd3786"
             ],
             [
              0.5555555555555556,
              "#d8576b"
             ],
             [
              0.6666666666666666,
              "#ed7953"
             ],
             [
              0.7777777777777778,
              "#fb9f3a"
             ],
             [
              0.8888888888888888,
              "#fdca26"
             ],
             [
              1,
              "#f0f921"
             ]
            ],
            "type": "heatmap"
           }
          ],
          "histogram": [
           {
            "marker": {
             "pattern": {
              "fillmode": "overlay",
              "size": 10,
              "solidity": 0.2
             }
            },
            "type": "histogram"
           }
          ],
          "histogram2d": [
           {
            "colorbar": {
             "outlinewidth": 0,
             "ticks": ""
            },
            "colorscale": [
             [
              0,
              "#0d0887"
             ],
             [
              0.1111111111111111,
              "#46039f"
             ],
             [
              0.2222222222222222,
              "#7201a8"
             ],
             [
              0.3333333333333333,
              "#9c179e"
             ],
             [
              0.4444444444444444,
              "#bd3786"
             ],
             [
              0.5555555555555556,
              "#d8576b"
             ],
             [
              0.6666666666666666,
              "#ed7953"
             ],
             [
              0.7777777777777778,
              "#fb9f3a"
             ],
             [
              0.8888888888888888,
              "#fdca26"
             ],
             [
              1,
              "#f0f921"
             ]
            ],
            "type": "histogram2d"
           }
          ],
          "histogram2dcontour": [
           {
            "colorbar": {
             "outlinewidth": 0,
             "ticks": ""
            },
            "colorscale": [
             [
              0,
              "#0d0887"
             ],
             [
              0.1111111111111111,
              "#46039f"
             ],
             [
              0.2222222222222222,
              "#7201a8"
             ],
             [
              0.3333333333333333,
              "#9c179e"
             ],
             [
              0.4444444444444444,
              "#bd3786"
             ],
             [
              0.5555555555555556,
              "#d8576b"
             ],
             [
              0.6666666666666666,
              "#ed7953"
             ],
             [
              0.7777777777777778,
              "#fb9f3a"
             ],
             [
              0.8888888888888888,
              "#fdca26"
             ],
             [
              1,
              "#f0f921"
             ]
            ],
            "type": "histogram2dcontour"
           }
          ],
          "mesh3d": [
           {
            "colorbar": {
             "outlinewidth": 0,
             "ticks": ""
            },
            "type": "mesh3d"
           }
          ],
          "parcoords": [
           {
            "line": {
             "colorbar": {
              "outlinewidth": 0,
              "ticks": ""
             }
            },
            "type": "parcoords"
           }
          ],
          "pie": [
           {
            "automargin": true,
            "type": "pie"
           }
          ],
          "scatter": [
           {
            "fillpattern": {
             "fillmode": "overlay",
             "size": 10,
             "solidity": 0.2
            },
            "type": "scatter"
           }
          ],
          "scatter3d": [
           {
            "line": {
             "colorbar": {
              "outlinewidth": 0,
              "ticks": ""
             }
            },
            "marker": {
             "colorbar": {
              "outlinewidth": 0,
              "ticks": ""
             }
            },
            "type": "scatter3d"
           }
          ],
          "scattercarpet": [
           {
            "marker": {
             "colorbar": {
              "outlinewidth": 0,
              "ticks": ""
             }
            },
            "type": "scattercarpet"
           }
          ],
          "scattergeo": [
           {
            "marker": {
             "colorbar": {
              "outlinewidth": 0,
              "ticks": ""
             }
            },
            "type": "scattergeo"
           }
          ],
          "scattergl": [
           {
            "marker": {
             "colorbar": {
              "outlinewidth": 0,
              "ticks": ""
             }
            },
            "type": "scattergl"
           }
          ],
          "scattermap": [
           {
            "marker": {
             "colorbar": {
              "outlinewidth": 0,
              "ticks": ""
             }
            },
            "type": "scattermap"
           }
          ],
          "scattermapbox": [
           {
            "marker": {
             "colorbar": {
              "outlinewidth": 0,
              "ticks": ""
             }
            },
            "type": "scattermapbox"
           }
          ],
          "scatterpolar": [
           {
            "marker": {
             "colorbar": {
              "outlinewidth": 0,
              "ticks": ""
             }
            },
            "type": "scatterpolar"
           }
          ],
          "scatterpolargl": [
           {
            "marker": {
             "colorbar": {
              "outlinewidth": 0,
              "ticks": ""
             }
            },
            "type": "scatterpolargl"
           }
          ],
          "scatterternary": [
           {
            "marker": {
             "colorbar": {
              "outlinewidth": 0,
              "ticks": ""
             }
            },
            "type": "scatterternary"
           }
          ],
          "surface": [
           {
            "colorbar": {
             "outlinewidth": 0,
             "ticks": ""
            },
            "colorscale": [
             [
              0,
              "#0d0887"
             ],
             [
              0.1111111111111111,
              "#46039f"
             ],
             [
              0.2222222222222222,
              "#7201a8"
             ],
             [
              0.3333333333333333,
              "#9c179e"
             ],
             [
              0.4444444444444444,
              "#bd3786"
             ],
             [
              0.5555555555555556,
              "#d8576b"
             ],
             [
              0.6666666666666666,
              "#ed7953"
             ],
             [
              0.7777777777777778,
              "#fb9f3a"
             ],
             [
              0.8888888888888888,
              "#fdca26"
             ],
             [
              1,
              "#f0f921"
             ]
            ],
            "type": "surface"
           }
          ],
          "table": [
           {
            "cells": {
             "fill": {
              "color": "#EBF0F8"
             },
             "line": {
              "color": "white"
             }
            },
            "header": {
             "fill": {
              "color": "#C8D4E3"
             },
             "line": {
              "color": "white"
             }
            },
            "type": "table"
           }
          ]
         },
         "layout": {
          "annotationdefaults": {
           "arrowcolor": "#2a3f5f",
           "arrowhead": 0,
           "arrowwidth": 1
          },
          "autotypenumbers": "strict",
          "coloraxis": {
           "colorbar": {
            "outlinewidth": 0,
            "ticks": ""
           }
          },
          "colorscale": {
           "diverging": [
            [
             0,
             "#8e0152"
            ],
            [
             0.1,
             "#c51b7d"
            ],
            [
             0.2,
             "#de77ae"
            ],
            [
             0.3,
             "#f1b6da"
            ],
            [
             0.4,
             "#fde0ef"
            ],
            [
             0.5,
             "#f7f7f7"
            ],
            [
             0.6,
             "#e6f5d0"
            ],
            [
             0.7,
             "#b8e186"
            ],
            [
             0.8,
             "#7fbc41"
            ],
            [
             0.9,
             "#4d9221"
            ],
            [
             1,
             "#276419"
            ]
           ],
           "sequential": [
            [
             0,
             "#0d0887"
            ],
            [
             0.1111111111111111,
             "#46039f"
            ],
            [
             0.2222222222222222,
             "#7201a8"
            ],
            [
             0.3333333333333333,
             "#9c179e"
            ],
            [
             0.4444444444444444,
             "#bd3786"
            ],
            [
             0.5555555555555556,
             "#d8576b"
            ],
            [
             0.6666666666666666,
             "#ed7953"
            ],
            [
             0.7777777777777778,
             "#fb9f3a"
            ],
            [
             0.8888888888888888,
             "#fdca26"
            ],
            [
             1,
             "#f0f921"
            ]
           ],
           "sequentialminus": [
            [
             0,
             "#0d0887"
            ],
            [
             0.1111111111111111,
             "#46039f"
            ],
            [
             0.2222222222222222,
             "#7201a8"
            ],
            [
             0.3333333333333333,
             "#9c179e"
            ],
            [
             0.4444444444444444,
             "#bd3786"
            ],
            [
             0.5555555555555556,
             "#d8576b"
            ],
            [
             0.6666666666666666,
             "#ed7953"
            ],
            [
             0.7777777777777778,
             "#fb9f3a"
            ],
            [
             0.8888888888888888,
             "#fdca26"
            ],
            [
             1,
             "#f0f921"
            ]
           ]
          },
          "colorway": [
           "#636efa",
           "#EF553B",
           "#00cc96",
           "#ab63fa",
           "#FFA15A",
           "#19d3f3",
           "#FF6692",
           "#B6E880",
           "#FF97FF",
           "#FECB52"
          ],
          "font": {
           "color": "#2a3f5f"
          },
          "geo": {
           "bgcolor": "white",
           "lakecolor": "white",
           "landcolor": "white",
           "showlakes": true,
           "showland": true,
           "subunitcolor": "#C8D4E3"
          },
          "hoverlabel": {
           "align": "left"
          },
          "hovermode": "closest",
          "mapbox": {
           "style": "light"
          },
          "paper_bgcolor": "white",
          "plot_bgcolor": "white",
          "polar": {
           "angularaxis": {
            "gridcolor": "#EBF0F8",
            "linecolor": "#EBF0F8",
            "ticks": ""
           },
           "bgcolor": "white",
           "radialaxis": {
            "gridcolor": "#EBF0F8",
            "linecolor": "#EBF0F8",
            "ticks": ""
           }
          },
          "scene": {
           "xaxis": {
            "backgroundcolor": "white",
            "gridcolor": "#DFE8F3",
            "gridwidth": 2,
            "linecolor": "#EBF0F8",
            "showbackground": true,
            "ticks": "",
            "zerolinecolor": "#EBF0F8"
           },
           "yaxis": {
            "backgroundcolor": "white",
            "gridcolor": "#DFE8F3",
            "gridwidth": 2,
            "linecolor": "#EBF0F8",
            "showbackground": true,
            "ticks": "",
            "zerolinecolor": "#EBF0F8"
           },
           "zaxis": {
            "backgroundcolor": "white",
            "gridcolor": "#DFE8F3",
            "gridwidth": 2,
            "linecolor": "#EBF0F8",
            "showbackground": true,
            "ticks": "",
            "zerolinecolor": "#EBF0F8"
           }
          },
          "shapedefaults": {
           "line": {
            "color": "#2a3f5f"
           }
          },
          "ternary": {
           "aaxis": {
            "gridcolor": "#DFE8F3",
            "linecolor": "#A2B1C6",
            "ticks": ""
           },
           "baxis": {
            "gridcolor": "#DFE8F3",
            "linecolor": "#A2B1C6",
            "ticks": ""
           },
           "bgcolor": "white",
           "caxis": {
            "gridcolor": "#DFE8F3",
            "linecolor": "#A2B1C6",
            "ticks": ""
           }
          },
          "title": {
           "x": 0.05
          },
          "xaxis": {
           "automargin": true,
           "gridcolor": "#EBF0F8",
           "linecolor": "#EBF0F8",
           "ticks": "",
           "title": {
            "standoff": 15
           },
           "zerolinecolor": "#EBF0F8",
           "zerolinewidth": 2
          },
          "yaxis": {
           "automargin": true,
           "gridcolor": "#EBF0F8",
           "linecolor": "#EBF0F8",
           "ticks": "",
           "title": {
            "standoff": 15
           },
           "zerolinecolor": "#EBF0F8",
           "zerolinewidth": 2
          }
         }
        },
        "title": {
         "font": {
          "color": "black",
          "size": 20
         },
         "text": "<b>Social media sites by portion of users who regularly get news there: Trend from 2020 to 2025</b>",
         "x": 0.5
        },
        "xaxis": {
         "rangeslider": {
          "visible": false
         },
         "title": {
          "text": "Social Media Platform"
         }
        },
        "yaxis": {
         "title": {
          "text": "Percentage of Users Getting News (%)"
         }
        }
       }
      }
     },
     "metadata": {},
     "output_type": "display_data"
    }
   ],
   "source": [
    "df = news_per_app.copy()\n",
    "df.set_index('Year', inplace=True)\n",
    "\n",
    "# keep all columns up to and including 'Reddit'\n",
    "if 'Reddit' in df.columns:\n",
    "    idx = df.columns.get_loc('Reddit')\n",
    "    df = df.iloc[:, :idx+1]\n",
    "df\n",
    "\n",
    "# We need to calculate the Open, High, Low, and Close for each platform.\n",
    "ohlc_data = {\n",
    "    'Open': df.loc[2020],         # Value from the first year\n",
    "    'Close': df.loc[2025],        # Value from the last year\n",
    "    'High': df.max(),             # The highest percentage over the period\n",
    "    'Low': df.min()               # The lowest percentage over the period\n",
    "}\n",
    "\n",
    "# Create a new DataFrame with this aggregated data.\n",
    "df_ohlc = pd.DataFrame(ohlc_data)\n",
    "\n",
    "# Clean up the platform names for a better-looking chart.\n",
    "df_ohlc.index = df_ohlc.index.str.replace('# ', '')\n",
    "\n",
    "fig = go.Figure()\n",
    "\n",
    "# Add the candlestick trace to the figure.\n",
    "fig.add_trace(go.Candlestick(\n",
    "    x=df_ohlc.index,        # The social media platforms\n",
    "    open=df_ohlc['Open'],\n",
    "    high=df_ohlc['High'],\n",
    "    low=df_ohlc['Low'],\n",
    "    close=df_ohlc['Close']\n",
    "))\n",
    "\n",
    "fig.update_layout(\n",
    "    title= dict(\n",
    "        text=\"<b>Social media sites by portion of users who regularly get news there: Trend from 2020 to 2025</b>\", # Use HTML <b> tag for bold\n",
    "        font=dict(\n",
    "            #family=\"Helvetica\", \n",
    "            size=20,        \n",
    "            color=\"black\" \n",
    "        ),\n",
    "        x=0.5 # Center the title\n",
    "    ),\n",
    "    xaxis_title='Social Media Platform',\n",
    "    yaxis_title='Percentage of Users Getting News (%)',\n",
    "    template='plotly_white',\n",
    "    xaxis_rangeslider_visible=False,\n",
    ")\n",
    "\n",
    "fig.add_annotation(\n",
    "    text=f\"% of each social media site’s users who say they regularly get news there\",\n",
    "    xref=\"paper\", yref=\"paper\",\n",
    "    x=0.5, y=1.15,            \n",
    "    yanchor='top',\n",
    "    showarrow=False,         \n",
    "    font=dict(\n",
    "        #family='Helvetica',\n",
    "        size=14,\n",
    "        color=\"grey\"\n",
    "    )\n",
    ")\n",
    "\n",
    "fig.add_annotation(\n",
    "    # Use HTML <br> for line breaks\n",
    "    text = \"Note: Only respondents who indicated that they use each site were asked if they regularly get news on it. \" \\\n",
    "    \"Social media sites are shown left to right in descending order by the share of U.S. adults who regularly get news there.\" \\\n",
    "    \"<br>Source: Survey of U.S. adults conducted Aug. 18-24, 2025. PEW RESEARCH CENTER\",\n",
    "    xref=\"paper\", yref=\"paper\", \n",
    "    x=0.1, y=-0.30,               \n",
    "    xanchor='left',             \n",
    "    showarrow=False,\n",
    "    font=dict(\n",
    "        size=12,\n",
    "        color=\"grey\"\n",
    "    )\n",
    ")\n",
    "\n",
    "fig.show()\n"
   ]
  },
  {
   "cell_type": "markdown",
   "id": "4075ba7c",
   "metadata": {},
   "source": [
    "Some social media sites – despite having relatively small overall audiences – stand out as destinations for news among many of their users. For example, 57% of X users get news there, as do a similar share of users (55%) on Truth Social, the site owned by President Donald Trump’s media and technology company. On the other hand, only 15% of WhatsApp users regularly get news on that platform.\n",
    "\n",
    "Just over half of TikTok users (55%) say they regularly get news on the site, up from 22% in 2020. The shares of users who get news on some other sites, such as YouTube and Instagram, also have risen."
   ]
  },
  {
   "cell_type": "markdown",
   "id": "ecd9887e",
   "metadata": {},
   "source": [
    "## **Who consumes news on each social media site?**\n",
    "\n",
    "The people who regularly get news on different social media sites often differ by gender, age and other factors. For example, women are more likely to regularly get news from Facebook, Instagram and TikTok, while men are more likely to say they get it from YouTube, X and Reddit. Other patterns are unique to individual sites.\n",
    "\n",
    "Younger people are more likely to be regular news consumers on TikTok, Instagram, Reddit and X. Black, Hispanic and Asian Americans are more likely than White Americans to regularly get news from YouTube and Instagram. In addition, those without a college degree are more likely than those with a college degree to get news from Facebook and TikTok.\n",
    "\n",
    "Democrats are also more likely than Republicans to say they get news from Instagram, TikTok and Reddit. Roughly equal shares of each party, though, say they regularly get news from YouTube.\n",
    "\n",
    "(Read the [Appendix](https://www.pewresearch.org/journalism/2025/09/25/appendix-demographic-profiles-of-regular-social-media-news-consumers-in-the-united-states/) for data on the demographic profiles and party identification of regular social media news consumers in the United States.)"
   ]
  },
  {
   "cell_type": "markdown",
   "id": "6e3ac668",
   "metadata": {},
   "source": [
    "## **Race/Social media platform** (Horizontal grouped bar chart)\n",
    "-  Demographics and party identification of regular social media news consumers in the U.S. (% of U.S. adults who say they regularly get news from each social media site)\n",
    "- Dataset: `demographics.csv`"
   ]
  },
  {
   "cell_type": "code",
   "execution_count": 90,
   "id": "c7d2f1cd",
   "metadata": {},
   "outputs": [
    {
     "data": {
      "application/vnd.plotly.v1+json": {
       "config": {
        "plotlyServerURL": "https://plot.ly"
       },
       "data": [
        {
         "alignmentgroup": "True",
         "hovertemplate": "Demographics=White<br>Percentage of Regular Consumers (%)=%{x}<br>Social Media Platform=%{y}<extra></extra>",
         "legendgroup": "White",
         "marker": {
          "color": "#636efa",
          "pattern": {
           "shape": ""
          }
         },
         "name": "White",
         "offsetgroup": "White",
         "orientation": "h",
         "showlegend": true,
         "textposition": "auto",
         "type": "bar",
         "x": {
          "bdata": "IhwNDgoI",
          "dtype": "i1"
         },
         "xaxis": "x",
         "y": [
          "Facebook",
          "YouTube",
          "Instagram",
          "TikTok",
          "X (Twitter)",
          "Reddit"
         ],
         "yaxis": "y"
        },
        {
         "alignmentgroup": "True",
         "hovertemplate": "Demographics=Black<br>Percentage of Regular Consumers (%)=%{x}<br>Social Media Platform=%{y}<extra></extra>",
         "legendgroup": "Black",
         "marker": {
          "color": "#EF553B",
          "pattern": {
           "shape": ""
          }
         },
         "name": "Black",
         "offsetgroup": "Black",
         "orientation": "h",
         "showlegend": true,
         "textposition": "auto",
         "type": "bar",
         "x": {
          "bdata": "KTAjHhMM",
          "dtype": "i1"
         },
         "xaxis": "x",
         "y": [
          "Facebook",
          "YouTube",
          "Instagram",
          "TikTok",
          "X (Twitter)",
          "Reddit"
         ],
         "yaxis": "y"
        },
        {
         "alignmentgroup": "True",
         "hovertemplate": "Demographics=Hispanic<br>Percentage of Regular Consumers (%)=%{x}<br>Social Media Platform=%{y}<extra></extra>",
         "legendgroup": "Hispanic",
         "marker": {
          "color": "#00cc96",
          "pattern": {
           "shape": ""
          }
         },
         "name": "Hispanic",
         "offsetgroup": "Hispanic",
         "orientation": "h",
         "showlegend": true,
         "textposition": "auto",
         "type": "bar",
         "x": {
          "bdata": "MysjJAwK",
          "dtype": "i1"
         },
         "xaxis": "x",
         "y": [
          "Facebook",
          "YouTube",
          "Instagram",
          "TikTok",
          "X (Twitter)",
          "Reddit"
         ],
         "yaxis": "y"
        },
        {
         "alignmentgroup": "True",
         "hovertemplate": "Demographics=Asian<br>Percentage of Regular Consumers (%)=%{x}<br>Social Media Platform=%{y}<extra></extra>",
         "legendgroup": "Asian",
         "marker": {
          "color": "#ab63fa",
          "pattern": {
           "shape": ""
          }
         },
         "name": "Asian",
         "offsetgroup": "Asian",
         "orientation": "h",
         "showlegend": true,
         "textposition": "auto",
         "type": "bar",
         "x": {
          "bdata": "IzYbEQ4N",
          "dtype": "i1"
         },
         "xaxis": "x",
         "y": [
          "Facebook",
          "YouTube",
          "Instagram",
          "TikTok",
          "X (Twitter)",
          "Reddit"
         ],
         "yaxis": "y"
        }
       ],
       "layout": {
        "annotations": [
         {
          "font": {
           "color": "grey",
           "size": 14
          },
          "showarrow": false,
          "text": "% of U.S. adults who say they regularly get news from each social media site",
          "x": -0.008,
          "xref": "paper",
          "y": 1.08,
          "yanchor": "top",
          "yref": "paper"
         },
         {
          "font": {
           "color": "grey",
           "size": 12
          },
          "showarrow": false,
          "text": "Note: Only respondents who indicated that they use each site were asked if they regularly get news on it. Estimates for Asian adults are representative of English speakers only. <br>Source: Survey of U.S. adults conducted Aug. 18-24, 2025. PEW RESEARCH CENTER",
          "x": 0.15,
          "xanchor": "left",
          "xref": "paper",
          "y": -0.25,
          "yref": "paper"
         }
        ],
        "barmode": "group",
        "legend": {
         "title": {
          "text": "Demographics"
         },
         "tracegroupgap": 0
        },
        "margin": {
         "t": 60
        },
        "template": {
         "data": {
          "bar": [
           {
            "error_x": {
             "color": "#2a3f5f"
            },
            "error_y": {
             "color": "#2a3f5f"
            },
            "marker": {
             "line": {
              "color": "white",
              "width": 0.5
             },
             "pattern": {
              "fillmode": "overlay",
              "size": 10,
              "solidity": 0.2
             }
            },
            "type": "bar"
           }
          ],
          "barpolar": [
           {
            "marker": {
             "line": {
              "color": "white",
              "width": 0.5
             },
             "pattern": {
              "fillmode": "overlay",
              "size": 10,
              "solidity": 0.2
             }
            },
            "type": "barpolar"
           }
          ],
          "carpet": [
           {
            "aaxis": {
             "endlinecolor": "#2a3f5f",
             "gridcolor": "#C8D4E3",
             "linecolor": "#C8D4E3",
             "minorgridcolor": "#C8D4E3",
             "startlinecolor": "#2a3f5f"
            },
            "baxis": {
             "endlinecolor": "#2a3f5f",
             "gridcolor": "#C8D4E3",
             "linecolor": "#C8D4E3",
             "minorgridcolor": "#C8D4E3",
             "startlinecolor": "#2a3f5f"
            },
            "type": "carpet"
           }
          ],
          "choropleth": [
           {
            "colorbar": {
             "outlinewidth": 0,
             "ticks": ""
            },
            "type": "choropleth"
           }
          ],
          "contour": [
           {
            "colorbar": {
             "outlinewidth": 0,
             "ticks": ""
            },
            "colorscale": [
             [
              0,
              "#0d0887"
             ],
             [
              0.1111111111111111,
              "#46039f"
             ],
             [
              0.2222222222222222,
              "#7201a8"
             ],
             [
              0.3333333333333333,
              "#9c179e"
             ],
             [
              0.4444444444444444,
              "#bd3786"
             ],
             [
              0.5555555555555556,
              "#d8576b"
             ],
             [
              0.6666666666666666,
              "#ed7953"
             ],
             [
              0.7777777777777778,
              "#fb9f3a"
             ],
             [
              0.8888888888888888,
              "#fdca26"
             ],
             [
              1,
              "#f0f921"
             ]
            ],
            "type": "contour"
           }
          ],
          "contourcarpet": [
           {
            "colorbar": {
             "outlinewidth": 0,
             "ticks": ""
            },
            "type": "contourcarpet"
           }
          ],
          "heatmap": [
           {
            "colorbar": {
             "outlinewidth": 0,
             "ticks": ""
            },
            "colorscale": [
             [
              0,
              "#0d0887"
             ],
             [
              0.1111111111111111,
              "#46039f"
             ],
             [
              0.2222222222222222,
              "#7201a8"
             ],
             [
              0.3333333333333333,
              "#9c179e"
             ],
             [
              0.4444444444444444,
              "#bd3786"
             ],
             [
              0.5555555555555556,
              "#d8576b"
             ],
             [
              0.6666666666666666,
              "#ed7953"
             ],
             [
              0.7777777777777778,
              "#fb9f3a"
             ],
             [
              0.8888888888888888,
              "#fdca26"
             ],
             [
              1,
              "#f0f921"
             ]
            ],
            "type": "heatmap"
           }
          ],
          "histogram": [
           {
            "marker": {
             "pattern": {
              "fillmode": "overlay",
              "size": 10,
              "solidity": 0.2
             }
            },
            "type": "histogram"
           }
          ],
          "histogram2d": [
           {
            "colorbar": {
             "outlinewidth": 0,
             "ticks": ""
            },
            "colorscale": [
             [
              0,
              "#0d0887"
             ],
             [
              0.1111111111111111,
              "#46039f"
             ],
             [
              0.2222222222222222,
              "#7201a8"
             ],
             [
              0.3333333333333333,
              "#9c179e"
             ],
             [
              0.4444444444444444,
              "#bd3786"
             ],
             [
              0.5555555555555556,
              "#d8576b"
             ],
             [
              0.6666666666666666,
              "#ed7953"
             ],
             [
              0.7777777777777778,
              "#fb9f3a"
             ],
             [
              0.8888888888888888,
              "#fdca26"
             ],
             [
              1,
              "#f0f921"
             ]
            ],
            "type": "histogram2d"
           }
          ],
          "histogram2dcontour": [
           {
            "colorbar": {
             "outlinewidth": 0,
             "ticks": ""
            },
            "colorscale": [
             [
              0,
              "#0d0887"
             ],
             [
              0.1111111111111111,
              "#46039f"
             ],
             [
              0.2222222222222222,
              "#7201a8"
             ],
             [
              0.3333333333333333,
              "#9c179e"
             ],
             [
              0.4444444444444444,
              "#bd3786"
             ],
             [
              0.5555555555555556,
              "#d8576b"
             ],
             [
              0.6666666666666666,
              "#ed7953"
             ],
             [
              0.7777777777777778,
              "#fb9f3a"
             ],
             [
              0.8888888888888888,
              "#fdca26"
             ],
             [
              1,
              "#f0f921"
             ]
            ],
            "type": "histogram2dcontour"
           }
          ],
          "mesh3d": [
           {
            "colorbar": {
             "outlinewidth": 0,
             "ticks": ""
            },
            "type": "mesh3d"
           }
          ],
          "parcoords": [
           {
            "line": {
             "colorbar": {
              "outlinewidth": 0,
              "ticks": ""
             }
            },
            "type": "parcoords"
           }
          ],
          "pie": [
           {
            "automargin": true,
            "type": "pie"
           }
          ],
          "scatter": [
           {
            "fillpattern": {
             "fillmode": "overlay",
             "size": 10,
             "solidity": 0.2
            },
            "type": "scatter"
           }
          ],
          "scatter3d": [
           {
            "line": {
             "colorbar": {
              "outlinewidth": 0,
              "ticks": ""
             }
            },
            "marker": {
             "colorbar": {
              "outlinewidth": 0,
              "ticks": ""
             }
            },
            "type": "scatter3d"
           }
          ],
          "scattercarpet": [
           {
            "marker": {
             "colorbar": {
              "outlinewidth": 0,
              "ticks": ""
             }
            },
            "type": "scattercarpet"
           }
          ],
          "scattergeo": [
           {
            "marker": {
             "colorbar": {
              "outlinewidth": 0,
              "ticks": ""
             }
            },
            "type": "scattergeo"
           }
          ],
          "scattergl": [
           {
            "marker": {
             "colorbar": {
              "outlinewidth": 0,
              "ticks": ""
             }
            },
            "type": "scattergl"
           }
          ],
          "scattermap": [
           {
            "marker": {
             "colorbar": {
              "outlinewidth": 0,
              "ticks": ""
             }
            },
            "type": "scattermap"
           }
          ],
          "scattermapbox": [
           {
            "marker": {
             "colorbar": {
              "outlinewidth": 0,
              "ticks": ""
             }
            },
            "type": "scattermapbox"
           }
          ],
          "scatterpolar": [
           {
            "marker": {
             "colorbar": {
              "outlinewidth": 0,
              "ticks": ""
             }
            },
            "type": "scatterpolar"
           }
          ],
          "scatterpolargl": [
           {
            "marker": {
             "colorbar": {
              "outlinewidth": 0,
              "ticks": ""
             }
            },
            "type": "scatterpolargl"
           }
          ],
          "scatterternary": [
           {
            "marker": {
             "colorbar": {
              "outlinewidth": 0,
              "ticks": ""
             }
            },
            "type": "scatterternary"
           }
          ],
          "surface": [
           {
            "colorbar": {
             "outlinewidth": 0,
             "ticks": ""
            },
            "colorscale": [
             [
              0,
              "#0d0887"
             ],
             [
              0.1111111111111111,
              "#46039f"
             ],
             [
              0.2222222222222222,
              "#7201a8"
             ],
             [
              0.3333333333333333,
              "#9c179e"
             ],
             [
              0.4444444444444444,
              "#bd3786"
             ],
             [
              0.5555555555555556,
              "#d8576b"
             ],
             [
              0.6666666666666666,
              "#ed7953"
             ],
             [
              0.7777777777777778,
              "#fb9f3a"
             ],
             [
              0.8888888888888888,
              "#fdca26"
             ],
             [
              1,
              "#f0f921"
             ]
            ],
            "type": "surface"
           }
          ],
          "table": [
           {
            "cells": {
             "fill": {
              "color": "#EBF0F8"
             },
             "line": {
              "color": "white"
             }
            },
            "header": {
             "fill": {
              "color": "#C8D4E3"
             },
             "line": {
              "color": "white"
             }
            },
            "type": "table"
           }
          ]
         },
         "layout": {
          "annotationdefaults": {
           "arrowcolor": "#2a3f5f",
           "arrowhead": 0,
           "arrowwidth": 1
          },
          "autotypenumbers": "strict",
          "coloraxis": {
           "colorbar": {
            "outlinewidth": 0,
            "ticks": ""
           }
          },
          "colorscale": {
           "diverging": [
            [
             0,
             "#8e0152"
            ],
            [
             0.1,
             "#c51b7d"
            ],
            [
             0.2,
             "#de77ae"
            ],
            [
             0.3,
             "#f1b6da"
            ],
            [
             0.4,
             "#fde0ef"
            ],
            [
             0.5,
             "#f7f7f7"
            ],
            [
             0.6,
             "#e6f5d0"
            ],
            [
             0.7,
             "#b8e186"
            ],
            [
             0.8,
             "#7fbc41"
            ],
            [
             0.9,
             "#4d9221"
            ],
            [
             1,
             "#276419"
            ]
           ],
           "sequential": [
            [
             0,
             "#0d0887"
            ],
            [
             0.1111111111111111,
             "#46039f"
            ],
            [
             0.2222222222222222,
             "#7201a8"
            ],
            [
             0.3333333333333333,
             "#9c179e"
            ],
            [
             0.4444444444444444,
             "#bd3786"
            ],
            [
             0.5555555555555556,
             "#d8576b"
            ],
            [
             0.6666666666666666,
             "#ed7953"
            ],
            [
             0.7777777777777778,
             "#fb9f3a"
            ],
            [
             0.8888888888888888,
             "#fdca26"
            ],
            [
             1,
             "#f0f921"
            ]
           ],
           "sequentialminus": [
            [
             0,
             "#0d0887"
            ],
            [
             0.1111111111111111,
             "#46039f"
            ],
            [
             0.2222222222222222,
             "#7201a8"
            ],
            [
             0.3333333333333333,
             "#9c179e"
            ],
            [
             0.4444444444444444,
             "#bd3786"
            ],
            [
             0.5555555555555556,
             "#d8576b"
            ],
            [
             0.6666666666666666,
             "#ed7953"
            ],
            [
             0.7777777777777778,
             "#fb9f3a"
            ],
            [
             0.8888888888888888,
             "#fdca26"
            ],
            [
             1,
             "#f0f921"
            ]
           ]
          },
          "colorway": [
           "#636efa",
           "#EF553B",
           "#00cc96",
           "#ab63fa",
           "#FFA15A",
           "#19d3f3",
           "#FF6692",
           "#B6E880",
           "#FF97FF",
           "#FECB52"
          ],
          "font": {
           "color": "#2a3f5f"
          },
          "geo": {
           "bgcolor": "white",
           "lakecolor": "white",
           "landcolor": "white",
           "showlakes": true,
           "showland": true,
           "subunitcolor": "#C8D4E3"
          },
          "hoverlabel": {
           "align": "left"
          },
          "hovermode": "closest",
          "mapbox": {
           "style": "light"
          },
          "paper_bgcolor": "white",
          "plot_bgcolor": "white",
          "polar": {
           "angularaxis": {
            "gridcolor": "#EBF0F8",
            "linecolor": "#EBF0F8",
            "ticks": ""
           },
           "bgcolor": "white",
           "radialaxis": {
            "gridcolor": "#EBF0F8",
            "linecolor": "#EBF0F8",
            "ticks": ""
           }
          },
          "scene": {
           "xaxis": {
            "backgroundcolor": "white",
            "gridcolor": "#DFE8F3",
            "gridwidth": 2,
            "linecolor": "#EBF0F8",
            "showbackground": true,
            "ticks": "",
            "zerolinecolor": "#EBF0F8"
           },
           "yaxis": {
            "backgroundcolor": "white",
            "gridcolor": "#DFE8F3",
            "gridwidth": 2,
            "linecolor": "#EBF0F8",
            "showbackground": true,
            "ticks": "",
            "zerolinecolor": "#EBF0F8"
           },
           "zaxis": {
            "backgroundcolor": "white",
            "gridcolor": "#DFE8F3",
            "gridwidth": 2,
            "linecolor": "#EBF0F8",
            "showbackground": true,
            "ticks": "",
            "zerolinecolor": "#EBF0F8"
           }
          },
          "shapedefaults": {
           "line": {
            "color": "#2a3f5f"
           }
          },
          "ternary": {
           "aaxis": {
            "gridcolor": "#DFE8F3",
            "linecolor": "#A2B1C6",
            "ticks": ""
           },
           "baxis": {
            "gridcolor": "#DFE8F3",
            "linecolor": "#A2B1C6",
            "ticks": ""
           },
           "bgcolor": "white",
           "caxis": {
            "gridcolor": "#DFE8F3",
            "linecolor": "#A2B1C6",
            "ticks": ""
           }
          },
          "title": {
           "x": 0.05
          },
          "xaxis": {
           "automargin": true,
           "gridcolor": "#EBF0F8",
           "linecolor": "#EBF0F8",
           "ticks": "",
           "title": {
            "standoff": 15
           },
           "zerolinecolor": "#EBF0F8",
           "zerolinewidth": 2
          },
          "yaxis": {
           "automargin": true,
           "gridcolor": "#EBF0F8",
           "linecolor": "#EBF0F8",
           "ticks": "",
           "title": {
            "standoff": 15
           },
           "zerolinecolor": "#EBF0F8",
           "zerolinewidth": 2
          }
         }
        },
        "title": {
         "font": {
          "color": "black",
          "size": 20
         },
         "text": "<b>Social Media News Consumption by Race</b>",
         "x": 0.05
        },
        "xaxis": {
         "anchor": "y",
         "domain": [
          0,
          1
         ],
         "title": {
          "text": "Year"
         }
        },
        "yaxis": {
         "anchor": "x",
         "categoryorder": "total ascending",
         "domain": [
          0,
          1
         ],
         "title": {
          "text": "Percentage of Users (%)"
         }
        }
       }
      }
     },
     "metadata": {},
     "output_type": "display_data"
    }
   ],
   "source": [
    "df = demographics.copy()\n",
    "df.set_index('Demographics', inplace=True)\n",
    "df\n",
    "\n",
    "# Filter for the races you want to plot\n",
    "races_to_plot = ['White', 'Black', 'Hispanic', 'Asian']\n",
    "df_race = df.loc[races_to_plot].copy()\n",
    "\n",
    "df_long = df_race.reset_index().melt(\n",
    "    id_vars='Demographics',\n",
    "    var_name='Platform',\n",
    "    value_name='Percentage'\n",
    ")\n",
    "df_long['Platform'] = df_long['Platform'].str.replace('# ', '')\n",
    "\n",
    "\n",
    "fig = px.bar(\n",
    "    df_long,\n",
    "    y='Platform',         # Categories on the y-axis\n",
    "    x='Percentage',       # Values on the x-axis\n",
    "    color='Demographics', # Group and color by race\n",
    "    barmode='group',      # This is the key argument for grouping\n",
    "    orientation='h',      # This makes the chart horizontal\n",
    "    \n",
    "    labels={'Platform': 'Social Media Platform', 'Percentage': 'Percentage of Regular Consumers (%)'},\n",
    "    template='plotly_white'\n",
    ")\n",
    "\n",
    "fig.update_layout(\n",
    "    title=dict(\n",
    "        text=\"<b>Social Media News Consumption by Race</b>\", # Use HTML <b> tag for bold\n",
    "        font=dict(\n",
    "            #family=\"Helvetica\",\n",
    "            size=20,       \n",
    "            color=\"black\"  \n",
    "        ),\n",
    "        x=0.05 # Center the title\n",
    "    ),\n",
    "    xaxis_title=\"Year\",\n",
    "    yaxis_title=\"Percentage of Users (%)\"\n",
    ")\n",
    "\n",
    "# --- 2. Add a Subtitle using an Annotation ---\n",
    "fig.add_annotation(\n",
    "    text=f\"% of U.S. adults who say they regularly get news from each social media site\",\n",
    "    xref=\"paper\", yref=\"paper\",\n",
    "    x=-0.008, y=1.08,       \n",
    "    yanchor='top',\n",
    "    showarrow=False, \n",
    "    font=dict(\n",
    "        #family='Helvetica',\n",
    "        size=14,\n",
    "        color=\"grey\"\n",
    "    )\n",
    ")\n",
    "\n",
    "fig.add_annotation(\n",
    "    # Use HTML <br> for line breaks\n",
    "    text = \"Note: Only respondents who indicated that they use each site were asked if they regularly get news on it. \" \\\n",
    "    \"Estimates for Asian adults are representative of English speakers only. \" \\\n",
    "    \"<br>Source: Survey of U.S. adults conducted Aug. 18-24, 2025. PEW RESEARCH CENTER\",\n",
    "    xref=\"paper\", yref=\"paper\", \n",
    "    x=0.15, y=-0.25,    \n",
    "    xanchor='left',       \n",
    "    showarrow=False,\n",
    "    font=dict(\n",
    "        size=12,\n",
    "        color=\"grey\"\n",
    "    )\n",
    ")\n",
    "fig.update_layout(yaxis={'categoryorder':'total ascending'})\n",
    "\n",
    "fig.show()"
   ]
  },
  {
   "cell_type": "markdown",
   "id": "bc17dc4f",
   "metadata": {},
   "source": [
    "## **Demographics/Social media platform** (Spider chart)\n",
    "- Demographics and party identification of regular social media news consumers in the U.S. (% of U.S. adults who say they regularly get news from each social media site)\n",
    "- Dataset: `demographics.csv`"
   ]
  },
  {
   "cell_type": "code",
   "execution_count": 91,
   "id": "ff2d8719",
   "metadata": {},
   "outputs": [
    {
     "data": {
      "application/vnd.plotly.v1+json": {
       "config": {
        "plotlyServerURL": "https://plot.ly"
       },
       "data": [
        {
         "fill": "toself",
         "name": "Men",
         "r": {
          "bdata": "ICkSDxEN",
          "dtype": "i1"
         },
         "subplot": "polar",
         "theta": [
          "Facebook",
          "YouTube",
          "Instagram",
          "TikTok",
          "X (Twitter)",
          "Reddit"
         ],
         "type": "scatterpolar"
        },
        {
         "fill": "toself",
         "name": "Women",
         "r": {
          "bdata": "Kx0XGAgG",
          "dtype": "i1"
         },
         "subplot": "polar",
         "theta": [
          "Facebook",
          "YouTube",
          "Instagram",
          "TikTok",
          "X (Twitter)",
          "Reddit"
         ],
         "type": "scatterpolar"
        },
        {
         "fill": "toself",
         "name": "18-29",
         "r": {
          "bdata": "KSkoKxUS",
          "dtype": "i1"
         },
         "subplot": "polar2",
         "theta": [
          "Facebook",
          "YouTube",
          "Instagram",
          "TikTok",
          "X (Twitter)",
          "Reddit"
         ],
         "type": "scatterpolar"
        },
        {
         "fill": "toself",
         "name": "30-49",
         "r": {
          "bdata": "LSUaGQwN",
          "dtype": "i1"
         },
         "subplot": "polar2",
         "theta": [
          "Facebook",
          "YouTube",
          "Instagram",
          "TikTok",
          "X (Twitter)",
          "Reddit"
         ],
         "type": "scatterpolar"
        },
        {
         "fill": "toself",
         "name": "50-64",
         "r": {
          "bdata": "JCMLCgsF",
          "dtype": "i1"
         },
         "subplot": "polar2",
         "theta": [
          "Facebook",
          "YouTube",
          "Instagram",
          "TikTok",
          "X (Twitter)",
          "Reddit"
         ],
         "type": "scatterpolar"
        },
        {
         "fill": "toself",
         "name": "65+",
         "r": {
          "bdata": "GxkFAwUB",
          "dtype": "i1"
         },
         "subplot": "polar2",
         "theta": [
          "Facebook",
          "YouTube",
          "Instagram",
          "TikTok",
          "X (Twitter)",
          "Reddit"
         ],
         "type": "scatterpolar"
        },
        {
         "fill": "toself",
         "name": "Rep/Lean Rep",
         "r": {
          "bdata": "KCIREQ4H",
          "dtype": "i1"
         },
         "subplot": "polar3",
         "theta": [
          "Facebook",
          "YouTube",
          "Instagram",
          "TikTok",
          "X (Twitter)",
          "Reddit"
         ],
         "type": "scatterpolar"
        },
        {
         "fill": "toself",
         "name": "Dem/Lean Dem",
         "r": {
          "bdata": "JCQZFwoM",
          "dtype": "i1"
         },
         "subplot": "polar3",
         "theta": [
          "Facebook",
          "YouTube",
          "Instagram",
          "TikTok",
          "X (Twitter)",
          "Reddit"
         ],
         "type": "scatterpolar"
        },
        {
         "fill": "toself",
         "name": "HS or less",
         "r": {
          "bdata": "LSMUGAsH",
          "dtype": "i1"
         },
         "subplot": "polar4",
         "theta": [
          "Facebook",
          "YouTube",
          "Instagram",
          "TikTok",
          "X (Twitter)",
          "Reddit"
         ],
         "type": "scatterpolar"
        },
        {
         "fill": "toself",
         "name": "Some college",
         "r": {
          "bdata": "KCYUFgwK",
          "dtype": "i1"
         },
         "subplot": "polar4",
         "theta": [
          "Facebook",
          "YouTube",
          "Instagram",
          "TikTok",
          "X (Twitter)",
          "Reddit"
         ],
         "type": "scatterpolar"
        },
        {
         "fill": "toself",
         "name": "College+",
         "r": {
          "bdata": "HCAVDQ0L",
          "dtype": "i1"
         },
         "subplot": "polar4",
         "theta": [
          "Facebook",
          "YouTube",
          "Instagram",
          "TikTok",
          "X (Twitter)",
          "Reddit"
         ],
         "type": "scatterpolar"
        }
       ],
       "layout": {
        "annotations": [
         {
          "font": {
           "color": "grey",
           "size": 14
          },
          "showarrow": false,
          "text": "% of U.S. adults who say they regularly get news from each social media site grouped by ...",
          "x": 0.57,
          "xref": "paper",
          "y": 1.05,
          "yref": "paper"
         },
         {
          "font": {
           "color": "grey",
           "size": 12
          },
          "showarrow": false,
          "text": "Note: Only respondents who indicated that they use each site were asked if they regularly get news on it. <br>Source: Survey of U.S. adults conducted Aug. 18-24, 2025. PEW RESEARCH CENTER",
          "x": 0.15,
          "xanchor": "left",
          "xref": "paper",
          "y": -0.05,
          "yref": "paper"
         },
         {
          "font": {
           "size": 15
          },
          "showarrow": false,
          "text": "<b>Gender<b>",
          "x": 0.13,
          "y": 1
         },
         {
          "font": {
           "size": 15
          },
          "showarrow": false,
          "text": "<b>Age Group<b>",
          "x": 0.9,
          "y": 1
         },
         {
          "font": {
           "size": 15
          },
          "showarrow": false,
          "text": "<b>Political Affiliation<b>",
          "x": 0.09,
          "y": 0.48
         },
         {
          "font": {
           "size": 15
          },
          "showarrow": false,
          "text": "<b>Education<b>",
          "x": 0.9,
          "y": 0.48
         }
        ],
        "height": 1000,
        "legend": {
         "x": 1.1,
         "xanchor": "left",
         "y": 0.55,
         "yanchor": "middle"
        },
        "polar": {
         "domain": {
          "x": [
           0,
           0.35
          ],
          "y": [
           0.5,
           1
          ]
         }
        },
        "polar2": {
         "domain": {
          "x": [
           0.6499999999999999,
           0.9999999999999999
          ],
          "y": [
           0.5,
           1
          ]
         }
        },
        "polar3": {
         "domain": {
          "x": [
           0,
           0.35
          ],
          "y": [
           0,
           0.5
          ]
         }
        },
        "polar4": {
         "domain": {
          "x": [
           0.6499999999999999,
           0.9999999999999999
          ],
          "y": [
           0,
           0.5
          ]
         }
        },
        "showlegend": true,
        "template": {
         "data": {
          "bar": [
           {
            "error_x": {
             "color": "#2a3f5f"
            },
            "error_y": {
             "color": "#2a3f5f"
            },
            "marker": {
             "line": {
              "color": "white",
              "width": 0.5
             },
             "pattern": {
              "fillmode": "overlay",
              "size": 10,
              "solidity": 0.2
             }
            },
            "type": "bar"
           }
          ],
          "barpolar": [
           {
            "marker": {
             "line": {
              "color": "white",
              "width": 0.5
             },
             "pattern": {
              "fillmode": "overlay",
              "size": 10,
              "solidity": 0.2
             }
            },
            "type": "barpolar"
           }
          ],
          "carpet": [
           {
            "aaxis": {
             "endlinecolor": "#2a3f5f",
             "gridcolor": "#C8D4E3",
             "linecolor": "#C8D4E3",
             "minorgridcolor": "#C8D4E3",
             "startlinecolor": "#2a3f5f"
            },
            "baxis": {
             "endlinecolor": "#2a3f5f",
             "gridcolor": "#C8D4E3",
             "linecolor": "#C8D4E3",
             "minorgridcolor": "#C8D4E3",
             "startlinecolor": "#2a3f5f"
            },
            "type": "carpet"
           }
          ],
          "choropleth": [
           {
            "colorbar": {
             "outlinewidth": 0,
             "ticks": ""
            },
            "type": "choropleth"
           }
          ],
          "contour": [
           {
            "colorbar": {
             "outlinewidth": 0,
             "ticks": ""
            },
            "colorscale": [
             [
              0,
              "#0d0887"
             ],
             [
              0.1111111111111111,
              "#46039f"
             ],
             [
              0.2222222222222222,
              "#7201a8"
             ],
             [
              0.3333333333333333,
              "#9c179e"
             ],
             [
              0.4444444444444444,
              "#bd3786"
             ],
             [
              0.5555555555555556,
              "#d8576b"
             ],
             [
              0.6666666666666666,
              "#ed7953"
             ],
             [
              0.7777777777777778,
              "#fb9f3a"
             ],
             [
              0.8888888888888888,
              "#fdca26"
             ],
             [
              1,
              "#f0f921"
             ]
            ],
            "type": "contour"
           }
          ],
          "contourcarpet": [
           {
            "colorbar": {
             "outlinewidth": 0,
             "ticks": ""
            },
            "type": "contourcarpet"
           }
          ],
          "heatmap": [
           {
            "colorbar": {
             "outlinewidth": 0,
             "ticks": ""
            },
            "colorscale": [
             [
              0,
              "#0d0887"
             ],
             [
              0.1111111111111111,
              "#46039f"
             ],
             [
              0.2222222222222222,
              "#7201a8"
             ],
             [
              0.3333333333333333,
              "#9c179e"
             ],
             [
              0.4444444444444444,
              "#bd3786"
             ],
             [
              0.5555555555555556,
              "#d8576b"
             ],
             [
              0.6666666666666666,
              "#ed7953"
             ],
             [
              0.7777777777777778,
              "#fb9f3a"
             ],
             [
              0.8888888888888888,
              "#fdca26"
             ],
             [
              1,
              "#f0f921"
             ]
            ],
            "type": "heatmap"
           }
          ],
          "histogram": [
           {
            "marker": {
             "pattern": {
              "fillmode": "overlay",
              "size": 10,
              "solidity": 0.2
             }
            },
            "type": "histogram"
           }
          ],
          "histogram2d": [
           {
            "colorbar": {
             "outlinewidth": 0,
             "ticks": ""
            },
            "colorscale": [
             [
              0,
              "#0d0887"
             ],
             [
              0.1111111111111111,
              "#46039f"
             ],
             [
              0.2222222222222222,
              "#7201a8"
             ],
             [
              0.3333333333333333,
              "#9c179e"
             ],
             [
              0.4444444444444444,
              "#bd3786"
             ],
             [
              0.5555555555555556,
              "#d8576b"
             ],
             [
              0.6666666666666666,
              "#ed7953"
             ],
             [
              0.7777777777777778,
              "#fb9f3a"
             ],
             [
              0.8888888888888888,
              "#fdca26"
             ],
             [
              1,
              "#f0f921"
             ]
            ],
            "type": "histogram2d"
           }
          ],
          "histogram2dcontour": [
           {
            "colorbar": {
             "outlinewidth": 0,
             "ticks": ""
            },
            "colorscale": [
             [
              0,
              "#0d0887"
             ],
             [
              0.1111111111111111,
              "#46039f"
             ],
             [
              0.2222222222222222,
              "#7201a8"
             ],
             [
              0.3333333333333333,
              "#9c179e"
             ],
             [
              0.4444444444444444,
              "#bd3786"
             ],
             [
              0.5555555555555556,
              "#d8576b"
             ],
             [
              0.6666666666666666,
              "#ed7953"
             ],
             [
              0.7777777777777778,
              "#fb9f3a"
             ],
             [
              0.8888888888888888,
              "#fdca26"
             ],
             [
              1,
              "#f0f921"
             ]
            ],
            "type": "histogram2dcontour"
           }
          ],
          "mesh3d": [
           {
            "colorbar": {
             "outlinewidth": 0,
             "ticks": ""
            },
            "type": "mesh3d"
           }
          ],
          "parcoords": [
           {
            "line": {
             "colorbar": {
              "outlinewidth": 0,
              "ticks": ""
             }
            },
            "type": "parcoords"
           }
          ],
          "pie": [
           {
            "automargin": true,
            "type": "pie"
           }
          ],
          "scatter": [
           {
            "fillpattern": {
             "fillmode": "overlay",
             "size": 10,
             "solidity": 0.2
            },
            "type": "scatter"
           }
          ],
          "scatter3d": [
           {
            "line": {
             "colorbar": {
              "outlinewidth": 0,
              "ticks": ""
             }
            },
            "marker": {
             "colorbar": {
              "outlinewidth": 0,
              "ticks": ""
             }
            },
            "type": "scatter3d"
           }
          ],
          "scattercarpet": [
           {
            "marker": {
             "colorbar": {
              "outlinewidth": 0,
              "ticks": ""
             }
            },
            "type": "scattercarpet"
           }
          ],
          "scattergeo": [
           {
            "marker": {
             "colorbar": {
              "outlinewidth": 0,
              "ticks": ""
             }
            },
            "type": "scattergeo"
           }
          ],
          "scattergl": [
           {
            "marker": {
             "colorbar": {
              "outlinewidth": 0,
              "ticks": ""
             }
            },
            "type": "scattergl"
           }
          ],
          "scattermap": [
           {
            "marker": {
             "colorbar": {
              "outlinewidth": 0,
              "ticks": ""
             }
            },
            "type": "scattermap"
           }
          ],
          "scattermapbox": [
           {
            "marker": {
             "colorbar": {
              "outlinewidth": 0,
              "ticks": ""
             }
            },
            "type": "scattermapbox"
           }
          ],
          "scatterpolar": [
           {
            "marker": {
             "colorbar": {
              "outlinewidth": 0,
              "ticks": ""
             }
            },
            "type": "scatterpolar"
           }
          ],
          "scatterpolargl": [
           {
            "marker": {
             "colorbar": {
              "outlinewidth": 0,
              "ticks": ""
             }
            },
            "type": "scatterpolargl"
           }
          ],
          "scatterternary": [
           {
            "marker": {
             "colorbar": {
              "outlinewidth": 0,
              "ticks": ""
             }
            },
            "type": "scatterternary"
           }
          ],
          "surface": [
           {
            "colorbar": {
             "outlinewidth": 0,
             "ticks": ""
            },
            "colorscale": [
             [
              0,
              "#0d0887"
             ],
             [
              0.1111111111111111,
              "#46039f"
             ],
             [
              0.2222222222222222,
              "#7201a8"
             ],
             [
              0.3333333333333333,
              "#9c179e"
             ],
             [
              0.4444444444444444,
              "#bd3786"
             ],
             [
              0.5555555555555556,
              "#d8576b"
             ],
             [
              0.6666666666666666,
              "#ed7953"
             ],
             [
              0.7777777777777778,
              "#fb9f3a"
             ],
             [
              0.8888888888888888,
              "#fdca26"
             ],
             [
              1,
              "#f0f921"
             ]
            ],
            "type": "surface"
           }
          ],
          "table": [
           {
            "cells": {
             "fill": {
              "color": "#EBF0F8"
             },
             "line": {
              "color": "white"
             }
            },
            "header": {
             "fill": {
              "color": "#C8D4E3"
             },
             "line": {
              "color": "white"
             }
            },
            "type": "table"
           }
          ]
         },
         "layout": {
          "annotationdefaults": {
           "arrowcolor": "#2a3f5f",
           "arrowhead": 0,
           "arrowwidth": 1
          },
          "autotypenumbers": "strict",
          "coloraxis": {
           "colorbar": {
            "outlinewidth": 0,
            "ticks": ""
           }
          },
          "colorscale": {
           "diverging": [
            [
             0,
             "#8e0152"
            ],
            [
             0.1,
             "#c51b7d"
            ],
            [
             0.2,
             "#de77ae"
            ],
            [
             0.3,
             "#f1b6da"
            ],
            [
             0.4,
             "#fde0ef"
            ],
            [
             0.5,
             "#f7f7f7"
            ],
            [
             0.6,
             "#e6f5d0"
            ],
            [
             0.7,
             "#b8e186"
            ],
            [
             0.8,
             "#7fbc41"
            ],
            [
             0.9,
             "#4d9221"
            ],
            [
             1,
             "#276419"
            ]
           ],
           "sequential": [
            [
             0,
             "#0d0887"
            ],
            [
             0.1111111111111111,
             "#46039f"
            ],
            [
             0.2222222222222222,
             "#7201a8"
            ],
            [
             0.3333333333333333,
             "#9c179e"
            ],
            [
             0.4444444444444444,
             "#bd3786"
            ],
            [
             0.5555555555555556,
             "#d8576b"
            ],
            [
             0.6666666666666666,
             "#ed7953"
            ],
            [
             0.7777777777777778,
             "#fb9f3a"
            ],
            [
             0.8888888888888888,
             "#fdca26"
            ],
            [
             1,
             "#f0f921"
            ]
           ],
           "sequentialminus": [
            [
             0,
             "#0d0887"
            ],
            [
             0.1111111111111111,
             "#46039f"
            ],
            [
             0.2222222222222222,
             "#7201a8"
            ],
            [
             0.3333333333333333,
             "#9c179e"
            ],
            [
             0.4444444444444444,
             "#bd3786"
            ],
            [
             0.5555555555555556,
             "#d8576b"
            ],
            [
             0.6666666666666666,
             "#ed7953"
            ],
            [
             0.7777777777777778,
             "#fb9f3a"
            ],
            [
             0.8888888888888888,
             "#fdca26"
            ],
            [
             1,
             "#f0f921"
            ]
           ]
          },
          "colorway": [
           "#636efa",
           "#EF553B",
           "#00cc96",
           "#ab63fa",
           "#FFA15A",
           "#19d3f3",
           "#FF6692",
           "#B6E880",
           "#FF97FF",
           "#FECB52"
          ],
          "font": {
           "color": "#2a3f5f"
          },
          "geo": {
           "bgcolor": "white",
           "lakecolor": "white",
           "landcolor": "white",
           "showlakes": true,
           "showland": true,
           "subunitcolor": "#C8D4E3"
          },
          "hoverlabel": {
           "align": "left"
          },
          "hovermode": "closest",
          "mapbox": {
           "style": "light"
          },
          "paper_bgcolor": "white",
          "plot_bgcolor": "white",
          "polar": {
           "angularaxis": {
            "gridcolor": "#EBF0F8",
            "linecolor": "#EBF0F8",
            "ticks": ""
           },
           "bgcolor": "white",
           "radialaxis": {
            "gridcolor": "#EBF0F8",
            "linecolor": "#EBF0F8",
            "ticks": ""
           }
          },
          "scene": {
           "xaxis": {
            "backgroundcolor": "white",
            "gridcolor": "#DFE8F3",
            "gridwidth": 2,
            "linecolor": "#EBF0F8",
            "showbackground": true,
            "ticks": "",
            "zerolinecolor": "#EBF0F8"
           },
           "yaxis": {
            "backgroundcolor": "white",
            "gridcolor": "#DFE8F3",
            "gridwidth": 2,
            "linecolor": "#EBF0F8",
            "showbackground": true,
            "ticks": "",
            "zerolinecolor": "#EBF0F8"
           },
           "zaxis": {
            "backgroundcolor": "white",
            "gridcolor": "#DFE8F3",
            "gridwidth": 2,
            "linecolor": "#EBF0F8",
            "showbackground": true,
            "ticks": "",
            "zerolinecolor": "#EBF0F8"
           }
          },
          "shapedefaults": {
           "line": {
            "color": "#2a3f5f"
           }
          },
          "ternary": {
           "aaxis": {
            "gridcolor": "#DFE8F3",
            "linecolor": "#A2B1C6",
            "ticks": ""
           },
           "baxis": {
            "gridcolor": "#DFE8F3",
            "linecolor": "#A2B1C6",
            "ticks": ""
           },
           "bgcolor": "white",
           "caxis": {
            "gridcolor": "#DFE8F3",
            "linecolor": "#A2B1C6",
            "ticks": ""
           }
          },
          "title": {
           "x": 0.05
          },
          "xaxis": {
           "automargin": true,
           "gridcolor": "#EBF0F8",
           "linecolor": "#EBF0F8",
           "ticks": "",
           "title": {
            "standoff": 15
           },
           "zerolinecolor": "#EBF0F8",
           "zerolinewidth": 2
          },
          "yaxis": {
           "automargin": true,
           "gridcolor": "#EBF0F8",
           "linecolor": "#EBF0F8",
           "ticks": "",
           "title": {
            "standoff": 15
           },
           "zerolinecolor": "#EBF0F8",
           "zerolinewidth": 2
          }
         }
        },
        "title": {
         "font": {
          "size": 20
         },
         "text": "<b>Social Media News Consumption in the U.S. by ...</b>",
         "x": 0.5
        },
        "width": 1000
       }
      }
     },
     "metadata": {},
     "output_type": "display_data"
    }
   ],
   "source": [
    "df = demographics.copy()\n",
    "df.set_index('Demographics', inplace=True)\n",
    "df\n",
    "\n",
    "subplot_groups = [\n",
    "    (\"By Gender\", ['Men', 'Women']),\n",
    "    (\"By Age Group\", ['18-29', '30-49', '50-64', '65+']),\n",
    "    (\"By Political Affiliation\", ['Rep/Lean Rep', 'Dem/Lean Dem']),\n",
    "    (\"By Education\", ['HS or less', 'Some college', 'College+'])\n",
    "]\n",
    "\n",
    "platforms = [col.replace('# ', '') for col in df.columns]\n",
    "\n",
    "fig = make_subplots(\n",
    "    rows=2,\n",
    "    cols=2,\n",
    "    specs=[[{'type': 'polar'}, {'type': 'polar'}],\n",
    "           [{'type': 'polar'}, {'type': 'polar'}]],\n",
    "    horizontal_spacing=0.3,\n",
    "    vertical_spacing=0\n",
    ")\n",
    "\n",
    "for i, (title, demographics_list) in enumerate(subplot_groups):\n",
    "    # Calculate the row and column for the current subplot\n",
    "    current_row = (i // 2) + 1 # Integer division gives 0 for i=0,1 and 1 for i=2,3\n",
    "    current_col = (i % 2) + 1  # Modulo gives 0 for even i and 1 for odd i\n",
    "    \n",
    "    # Filter the data for the current group\n",
    "    df_group = df.loc[demographics_list]\n",
    "\n",
    "    # Add a trace for each demographic within the group\n",
    "    for demo in demographics_list:\n",
    "        fig.add_trace(\n",
    "            go.Scatterpolar(\n",
    "                r=df_group.loc[demo].values,\n",
    "                theta=platforms,\n",
    "                fill='toself',\n",
    "                name=demo\n",
    "            ),\n",
    "            row=current_row, col=current_col # Place the trace in the calculated cell\n",
    "        )\n",
    "\n",
    "fig.update_layout(\n",
    "    title=dict(\n",
    "        text=\"<b>Social Media News Consumption in the U.S. by ...</b>\", # Use HTML <b> tag for bold\n",
    "        font=dict(\n",
    "            #family=\"Helvetica\", \n",
    "            size=20,       \n",
    "        ),\n",
    "        x=0.5 # Center the title\n",
    "    ),\n",
    "\n",
    "    legend=dict(\n",
    "        x=1.10,           \n",
    "        y=0.55,            \n",
    "        xanchor='left',  \n",
    "        yanchor='middle'  \n",
    "    ),\n",
    "\n",
    "    height=1000,\n",
    "    width=1000,\n",
    "    showlegend=True,\n",
    "    template='plotly_white',\n",
    "\n",
    ")\n",
    "\n",
    "fig.add_annotation(\n",
    "    text=f\"% of U.S. adults who say they regularly get news from each social media site grouped by ...\",\n",
    "    xref=\"paper\", yref=\"paper\",\n",
    "    x=0.57, y=1.05,\n",
    "    showarrow=False,\n",
    "    font=dict(\n",
    "        size=14,\n",
    "        color=\"grey\"\n",
    "    )\n",
    ")\n",
    "\n",
    "fig.add_annotation(\n",
    "    # Use HTML <br> for line breaks\n",
    "    text = \"Note: Only respondents who indicated that they use each site were asked if they regularly get news on it. \" \\\n",
    "    \"<br>Source: Survey of U.S. adults conducted Aug. 18-24, 2025. PEW RESEARCH CENTER\",\n",
    "    xref=\"paper\", yref=\"paper\",\n",
    "    x=0.15, y=-0.05,             \n",
    "    xanchor='left',            \n",
    "    showarrow=False,\n",
    "    font=dict(\n",
    "        size=12,\n",
    "        color=\"grey\"\n",
    "    )\n",
    ")\n",
    "\n",
    "# Add titles to each subplot using annotations\n",
    "fig.add_annotation(text=\"<b>Gender<b>\", font = dict(size = 15, ), x=0.13, y=1, showarrow=False)\n",
    "fig.add_annotation(text=\"<b>Age Group<b>\", font = dict(size = 15,),x=0.9, y=1, showarrow=False)\n",
    "fig.add_annotation(text=\"<b>Political Affiliation<b>\",font = dict(size = 15, ), x=0.09, y=0.48, showarrow=False)\n",
    "fig.add_annotation(text=\"<b>Education<b>\", font = dict(size = 15,),x=0.9, y=0.48, showarrow=False)\n",
    "\n",
    "fig.show()"
   ]
  }
 ],
 "metadata": {
  "kernelspec": {
   "display_name": "base",
   "language": "python",
   "name": "python3"
  },
  "language_info": {
   "codemirror_mode": {
    "name": "ipython",
    "version": 3
   },
   "file_extension": ".py",
   "mimetype": "text/x-python",
   "name": "python",
   "nbconvert_exporter": "python",
   "pygments_lexer": "ipython3",
   "version": "3.13.5"
  }
 },
 "nbformat": 4,
 "nbformat_minor": 5
}
